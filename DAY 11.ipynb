{
 "cells": [
  {
   "cell_type": "code",
   "execution_count": 1,
   "id": "4b2fb453",
   "metadata": {},
   "outputs": [],
   "source": [
    "import datetime"
   ]
  },
  {
   "cell_type": "code",
   "execution_count": 2,
   "id": "3db972f3",
   "metadata": {},
   "outputs": [
    {
     "data": {
      "text/plain": [
       "datetime.date(2022, 3, 25)"
      ]
     },
     "execution_count": 2,
     "metadata": {},
     "output_type": "execute_result"
    }
   ],
   "source": [
    "date1 = datetime.date(2022,3,25)\n",
    "date1"
   ]
  },
  {
   "cell_type": "code",
   "execution_count": 4,
   "id": "a19d3b26",
   "metadata": {},
   "outputs": [
    {
     "name": "stdout",
     "output_type": "stream",
     "text": [
      "2022\n",
      "3\n",
      "25\n",
      "4\n",
      "5\n"
     ]
    }
   ],
   "source": [
    "print(date1.year)\n",
    "print(date1.month)\n",
    "print(date1.day)\n",
    "print(date1.weekday())\n",
    "print(date1.isoweekday())"
   ]
  },
  {
   "cell_type": "code",
   "execution_count": 5,
   "id": "e266488c",
   "metadata": {},
   "outputs": [
    {
     "data": {
      "text/plain": [
       "datetime.date(2022, 8, 22)"
      ]
     },
     "execution_count": 5,
     "metadata": {},
     "output_type": "execute_result"
    }
   ],
   "source": [
    "currentdate = datetime.date.today()\n",
    "currentdate"
   ]
  },
  {
   "cell_type": "code",
   "execution_count": 8,
   "id": "9f2b303a",
   "metadata": {},
   "outputs": [],
   "source": [
    "#strifetime: is used for the modification of date and time\n",
    "#m = month in digit\n",
    "#A = day of the week in words and in full\n",
    "#a = abbreviation of the day (mon instead of monday)\n",
    "#B = month in words\n",
    "#Y = Year in fulls\n",
    "#y = year in short form ('22 instead of 2022')\n",
    "#b = month in words but abbreviated\n",
    "#d = date in digit\n",
    "#M = minutes\n",
    "#H = hour in 24 hour format\n",
    "#I = hour in 12 hours format\n",
    "#s = seconds\n",
    "#f = microseconds\n",
    "#p = post and anti meridian(pm or am)\n",
    "# c = both the date and time\n",
    "#trnd total number of days\n",
    "#ed election date"
   ]
  },
  {
   "cell_type": "code",
   "execution_count": 9,
   "id": "18c66bfd",
   "metadata": {},
   "outputs": [
    {
     "data": {
      "text/plain": [
       "'22 August 2022'"
      ]
     },
     "execution_count": 9,
     "metadata": {},
     "output_type": "execute_result"
    }
   ],
   "source": [
    "currentdate.strftime('%d %B %Y')"
   ]
  },
  {
   "cell_type": "code",
   "execution_count": 11,
   "id": "989ca3a9",
   "metadata": {},
   "outputs": [
    {
     "data": {
      "text/plain": [
       "datetime.time(14, 31, 35, 396382)"
      ]
     },
     "execution_count": 11,
     "metadata": {},
     "output_type": "execute_result"
    }
   ],
   "source": [
    "currenttime = datetime.datetime.now().time()\n",
    "currenttime"
   ]
  },
  {
   "cell_type": "code",
   "execution_count": 12,
   "id": "e78165f7",
   "metadata": {},
   "outputs": [
    {
     "name": "stdout",
     "output_type": "stream",
     "text": [
      "14\n",
      "31\n",
      "35\n",
      "396382\n"
     ]
    }
   ],
   "source": [
    "print(currenttime.hour)\n",
    "print(currenttime.minute)\n",
    "print(currenttime.second)\n",
    "print(currenttime.microsecond)"
   ]
  },
  {
   "cell_type": "code",
   "execution_count": 13,
   "id": "ed68ae4e",
   "metadata": {},
   "outputs": [
    {
     "data": {
      "text/plain": [
       "datetime.datetime(2022, 8, 22, 14, 39, 44, 713483)"
      ]
     },
     "execution_count": 13,
     "metadata": {},
     "output_type": "execute_result"
    }
   ],
   "source": [
    "currentdate_time = datetime.datetime.now()\n",
    "currentdate_time"
   ]
  },
  {
   "cell_type": "code",
   "execution_count": 14,
   "id": "4f88e4ea",
   "metadata": {},
   "outputs": [
    {
     "data": {
      "text/plain": [
       "'Mon Aug 22 14:39:44 2022'"
      ]
     },
     "execution_count": 14,
     "metadata": {},
     "output_type": "execute_result"
    }
   ],
   "source": [
    "currentdate_time.strftime('%c')"
   ]
  },
  {
   "cell_type": "code",
   "execution_count": 15,
   "id": "78d75e9f",
   "metadata": {},
   "outputs": [],
   "source": [
    "#strptime: this is used for converting a date and time entered as string to datetime format"
   ]
  },
  {
   "cell_type": "code",
   "execution_count": 20,
   "id": "8a9247ad",
   "metadata": {},
   "outputs": [
    {
     "name": "stdout",
     "output_type": "stream",
     "text": [
      "Please provide a date in this format(d/m/Y)07/08/2022\n",
      "2022-08-07\n"
     ]
    }
   ],
   "source": [
    "cdate = input('Please provide a date in this format(d/m/Y)')\n",
    "date2 = datetime.datetime.strptime(cdate,'%d/%m/%Y').date()\n",
    "print(date2)"
   ]
  },
  {
   "cell_type": "code",
   "execution_count": 22,
   "id": "18f26b9c",
   "metadata": {},
   "outputs": [
    {
     "data": {
      "text/plain": [
       "datetime.timedelta(days=150)"
      ]
     },
     "execution_count": 22,
     "metadata": {},
     "output_type": "execute_result"
    }
   ],
   "source": [
    "#timedelta: this is the difference between two dates and two time\n",
    "currentdate - date1"
   ]
  },
  {
   "cell_type": "code",
   "execution_count": 23,
   "id": "97445810",
   "metadata": {},
   "outputs": [
    {
     "data": {
      "text/plain": [
       "datetime.date(2026, 6, 22)"
      ]
     },
     "execution_count": 23,
     "metadata": {},
     "output_type": "execute_result"
    }
   ],
   "source": [
    "td = datetime.timedelta(weeks=200)\n",
    "currentdate +td"
   ]
  },
  {
   "cell_type": "code",
   "execution_count": 24,
   "id": "f6c53422",
   "metadata": {},
   "outputs": [
    {
     "data": {
      "text/plain": [
       "39"
      ]
     },
     "execution_count": 24,
     "metadata": {},
     "output_type": "execute_result"
    }
   ],
   "source": [
    "ed = datetime.date(2023,5,23)\n",
    "trnd = ed - currentdate\n",
    "trnd.days // 7"
   ]
  },
  {
   "cell_type": "code",
   "execution_count": 25,
   "id": "3601e199",
   "metadata": {},
   "outputs": [
    {
     "ename": "SyntaxError",
     "evalue": "invalid syntax (355952001.py, line 18)",
     "output_type": "error",
     "traceback": [
      "\u001b[1;36m  Input \u001b[1;32mIn [25]\u001b[1;36m\u001b[0m\n\u001b[1;33m    else:\u001b[0m\n\u001b[1;37m    ^\u001b[0m\n\u001b[1;31mSyntaxError\u001b[0m\u001b[1;31m:\u001b[0m invalid syntax\n"
     ]
    }
   ],
   "source": [
    "answer_to_question = {\n",
    "    'Q1':[4,5,2,3,6],\n",
    "    'Q2':[5,10,4,11],\n",
    "    'Q3':['Programming language','Script language','High Level Language'],\n",
    "    'Q4':['ArithmeticError','AttributeError','BytesWarning','Constructor'],\n",
    "    'Q5':['Pass a loop','exit a loop','to mute a loop','to continue a loop'],\n",
    "    'Q6':[8,7,5,4,6],\n",
    "    'Q7':[2,4,3,6],\n",
    "    'Q8':['For modification of iterable object','to format iterable object','to pass iterable object'],\n",
    "    'Q9':[14,15,21,22,I,19],\n",
    "    'Q10':[4,5,10,7,3]\n",
    "}\n",
    "Name = input('Please provide your name:')\n",
    "age = float(input('please provide your age:'))\n",
    "quizscore = 0\n",
    "answer = int(input('How many part is variable scope divided into:'))\n",
    "if answer == answer_to_question['Q1'][2]:\n",
    "    else:\n",
    "        quizscore = quizscore + 5\n",
    "    else:\n",
    "        quizscore + 0\n",
    "        \n",
    "    answer = int(input('How many types of function did we considered:'))\n",
    "    if answer == answer_to_question['Q2'][2]:\n",
    "        quizscore = quizscore + 5\n",
    "    else:\n",
    "        quizscore + 0\n",
    "    answer = input('What python is:')\n",
    "    if answer == answer_to_question['Q3'][0]:\n",
    "        quizscore = quizscore + 5\n",
    "    else:\n",
    "        quizscore + 0\n",
    "    answer = input('what is init:')\n",
    "    if answer == answer_to_question['Q4'][3]:\n",
    "        quizscore = quizscore + 5\n",
    "    else:\n",
    "        quizscore + 0\n",
    "        \n",
    "    answer = input('what is break statement:')\n",
    "    if answer == answer_to_question['Q5'][1]:\n",
    "        quizscore = quizscore + 5\n",
    "    else:\n",
    "        quizscore + 0 \n",
    "        \n",
    "    answer = int(input('how many operators did we considered:'))\n",
    "    if answer == answer_to_question['Q6'][5]:\n",
    "        quizscore = quizscore + 5\n",
    "    else:\n",
    "        quizscore + 0\n",
    "        \n",
    "    answer = input('how many data type do we considered:')\n",
    "    if answer == answer_to_question['Q7'][1]:\n",
    "        quizscore = quizscore\n",
    "        \n",
    "        \n",
    "        \n",
    "        \n",
    "        \n",
    "        \n",
    "        \n",
    "        \n",
    "        \n",
    "        \n",
    "        \n",
    "        \n",
    "        \n",
    "        \n",
    "        \n",
    "        \n",
    "        \n",
    "        \n",
    "        \n",
    "        \n",
    "stoptime = datetime.datetime.now()\n",
    "diff = stoptime - starttime\n",
    "iqtest = (quizscore/age) * 100\n",
    "\n",
    " if iqtest <= 69:\n",
    "        prin(f'Your score is {quizscore} in {diff.seconds} time therefore you are extremely low')\n",
    "        \n",
    "        "
   ]
  },
  {
   "cell_type": "code",
   "execution_count": 27,
   "id": "cdd44308",
   "metadata": {},
   "outputs": [
    {
     "name": "stdout",
     "output_type": "stream",
     "text": [
      "Please provide your name: GIFT\n",
      "please provide your age:26\n",
      "How many part is variable scope divided into:2\n",
      "How many types of function did we considered:4\n",
      "What python is:PROGRAMMING LANGUAGE\n",
      "What is init:CONSTRUCTOR\n",
      "What is break statement:TO EXIT A LOOP\n",
      "How many operators did we considered:6\n",
      "How many data type did we considered:4\n",
      "What is Map  used for:FOR MODIFICATION\n",
      "How many legs does spider has:8\n",
      "How many step do we have in error handling:3\n",
      "Your score is 25 in 88 time therefore you are Average\n"
     ]
    }
   ],
   "source": [
    "answer_to_question = {\n",
    "    'Q1':[4,5,2,3,6],\n",
    "    'Q2':[5,10,4,11,5],\n",
    "    'Q3':['Programming language','Script language','High Level language'],\n",
    "    'Q4':['ArithmeticError','AttributeError','BytesWarning','Constructor'],\n",
    "    'Q5':['Pass a loop','exit a loop','to mute a loop','to continue a loop'],\n",
    "    'Q6':[8,7,5,4,6],\n",
    "    'Q7':[2,4,3,6],\n",
    "    'Q8':['For modification of iterable object','to format iterable object','to pass iterable object'],\n",
    "    'Q9':[14,15,21,22,8,19],\n",
    "    'Q10':[4,5,10,7,3]\n",
    "}\n",
    "Name = input('Please provide your name:')\n",
    "age = float(input('please provide your age:'))\n",
    "quizscore = 0\n",
    "starttime = datetime.datetime.now()\n",
    "answer = int(input('How many part is variable scope divided into:'))\n",
    "if answer == answer_to_question['Q1'][2]:\n",
    "    quizscore = quizscore + 5\n",
    "else:\n",
    "    quizscore + 0\n",
    "    \n",
    "answer = int(input('How many types of function did we considered:'))\n",
    "if answer == answer_to_question['Q2'][2]:\n",
    "    quizscore = quizscore + 5\n",
    "else:\n",
    "    quizscore + 0\n",
    "answer = input('What python is:')\n",
    "if answer == answer_to_question['Q3'][0]:\n",
    "    quizscore = quizscore + 5\n",
    "else:\n",
    "    quizscore + 0\n",
    "    \n",
    "answer = input('What is init:')\n",
    "if answer == answer_to_question['Q4'][3]:\n",
    "    quizscore = quizscore + 5\n",
    "else:\n",
    "    quizscore + 0\n",
    "    \n",
    "answer = input('What is break statement:')\n",
    "if answer == answer_to_question['Q5'][1]:\n",
    "    quizscore = quizscore + 5\n",
    "else:\n",
    "    quizscore + 0\n",
    "\n",
    "answer = int(input('How many operators did we considered:'))\n",
    "if answer == answer_to_question['Q6'][4]:\n",
    "    quizscore = quizscore + 5\n",
    "else:\n",
    "    quizscore + 0\n",
    "    \n",
    "answer = int(input('How many data type did we considered:'))\n",
    "if answer == answer_to_question['Q7'][1]:\n",
    "    quizscore = quizscore + 5\n",
    "else:\n",
    "    quizscore + 0\n",
    "    \n",
    "answer = input('What is Map  used for:')\n",
    "if answer == answer_to_question['Q8'][0]:\n",
    "    quizscore = quizscore + 5\n",
    "else:\n",
    "    quizscore + 0\n",
    "    \n",
    "answer = int(input('How many legs does spider has:'))\n",
    "if answer == answer_to_question['Q9'][4]:\n",
    "    quizscore = quizscore + 5\n",
    "else:\n",
    "    quizscore + 0\n",
    "    \n",
    "answer = int(input('How many step do we have in error handling:'))\n",
    "if answer == answer_to_question['Q10'][2]:\n",
    "    quizscore = quizscore + 5\n",
    "else:\n",
    "    quizscore + 0\n",
    "stoptime =  datetime.datetime.now()\n",
    "diff = stoptime - starttime\n",
    "iqtest = (quizscore/age) * 100\n",
    "\n",
    "if iqtest  <= 69:\n",
    "    print(f'Your score is {quizscore} in {diff.seconds} time therefore you are extremely low')\n",
    "elif iqtest  >= 70 and iqtest <= 79:\n",
    "    print(f'Your score is {quizscore} in {diff.seconds} time therefore you are very low')\n",
    "elif iqtest  >= 80 and iqtest <= 89:\n",
    "    print(f'Your score is {quizscore} in {diff.seconds} time therefore you are Averagely low')\n",
    "elif iqtest  >= 90 and iqtest <= 109:\n",
    "    print(f'Your score is {quizscore} in {diff.seconds} time therefore you are Average')\n",
    "elif iqtest  >= 110 and iqtest <= 119:\n",
    "    print(f'Your score is {quizscore} in {diff.seconds} time therefore you are Highly Average')\n",
    "elif iqtest  >= 120 and iqtest <= 129:\n",
    "    print(f'Your score is {quizscore} in {diff.seconds} time therefore you are Very High')\n",
    "else:\n",
    "    print(f'Your score is {quizscore} in {diff.seconds} time therefore you are extremely High')"
   ]
  },
  {
   "cell_type": "code",
   "execution_count": null,
   "id": "6e9f649c",
   "metadata": {},
   "outputs": [],
   "source": []
  }
 ],
 "metadata": {
  "kernelspec": {
   "display_name": "Python 3 (ipykernel)",
   "language": "python",
   "name": "python3"
  },
  "language_info": {
   "codemirror_mode": {
    "name": "ipython",
    "version": 3
   },
   "file_extension": ".py",
   "mimetype": "text/x-python",
   "name": "python",
   "nbconvert_exporter": "python",
   "pygments_lexer": "ipython3",
   "version": "3.9.12"
  }
 },
 "nbformat": 4,
 "nbformat_minor": 5
}
