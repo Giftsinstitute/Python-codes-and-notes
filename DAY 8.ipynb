{
 "cells": [
  {
   "cell_type": "markdown",
   "id": "ebe876f9",
   "metadata": {},
   "source": [
    "# CLASS AND OBJECT"
   ]
  },
  {
   "cell_type": "code",
   "execution_count": null,
   "id": "6eb2f0e3",
   "metadata": {},
   "outputs": [],
   "source": [
    "# Class and Object\n",
    "# Class is a user define blueprint or prototype from which an object is created\n",
    "# it has two main attribute: method and attribute\n",
    "# the attribute defines the class\n",
    "# the method state the function of the class\n",
    "# object is an instance (copy) of a class\n",
    "# self is always the parameter and allows us to have access to attribute and method of the class, without self we can't retrieve any attribute to the class\n",
    "# _init_ is a constructor and it run as soon as an object of a class is instantiated"
   ]
  },
  {
   "cell_type": "code",
   "execution_count": 4,
   "id": "ca2130f2",
   "metadata": {},
   "outputs": [
    {
     "data": {
      "text/plain": [
       "'Mammal'"
      ]
     },
     "execution_count": 4,
     "metadata": {},
     "output_type": "execute_result"
    }
   ],
   "source": [
    "class dog:\n",
    "    attr1 = 'Mammal'\n",
    "    attr2 = 'Bark'\n",
    "obj = dog()\n",
    "obj.attr1"
   ]
  },
  {
   "cell_type": "code",
   "execution_count": 2,
   "id": "cad86779",
   "metadata": {},
   "outputs": [
    {
     "data": {
      "text/plain": [
       "'Bark'"
      ]
     },
     "execution_count": 2,
     "metadata": {},
     "output_type": "execute_result"
    }
   ],
   "source": [
    "obj.attr2"
   ]
  },
  {
   "cell_type": "code",
   "execution_count": 8,
   "id": "d9f6eb2f",
   "metadata": {},
   "outputs": [
    {
     "name": "stdout",
     "output_type": "stream",
     "text": [
      "I belong to the family of Mammal\n",
      "i can Bark\n"
     ]
    }
   ],
   "source": [
    "class dog:\n",
    "    attr1 = 'Mammal'\n",
    "    attr2 = 'Bark'\n",
    "    \n",
    "    def family(self):\n",
    "        print(f'I belong to the family of {self.attr1}')\n",
    "    def bark(self):\n",
    "        print(f'i can {self.attr2}')\n",
    "obj = dog()\n",
    "obj.family()\n",
    "obj.bark()"
   ]
  },
  {
   "cell_type": "code",
   "execution_count": 11,
   "id": "880f3b3b",
   "metadata": {},
   "outputs": [],
   "source": [
    "class carsimulation:\n",
    "    def __init__(self,Brand,Model,Color,Year,Speed):\n",
    "        self.Brand = Brand\n",
    "        self.Model = Model\n",
    "        self.Color = Color\n",
    "        self.Year = Year\n",
    "        self.Speed = Speed\n",
    "    def start(self):\n",
    "        print(f'{self.Brand} {self.Model} has started !!!!!!!!!!!!!!!!!')\n",
    "    def gear(self,ch):\n",
    "        if ch == 1:\n",
    "            print('Gear placed on 1')\n",
    "        elif ch == 2:\n",
    "            print('Gear placed on 2')\n",
    "        elif ch == 3:\n",
    "            print('Gear placed on 3')\n",
    "        elif ch == 4:\n",
    "            print('Gear placed on 4')\n",
    "        elif ch == 5:\n",
    "            print('Gear placed on 5')\n",
    "        elif ch == 6:\n",
    "            print('Gear on reverse')\n",
    "    def accelerate(self):\n",
    "        option = int(input('Enter 1 to turn on nitro and 2 to turn off nitro:'))\n",
    "        if option ==1:\n",
    "            print('Nitro engaged')\n",
    "        elif option == 2:\n",
    "            print('Nito Disengaged')\n",
    "        else:\n",
    "            print('Invalid option')\n",
    "    def stop(self):\n",
    "        print('Game over!!!!!!!!!! Car stopped')\n",
    "car1 = carsimulation('Toyota','Camry','Black',2016,120)\n",
    "car2 = carsimulation('Mercedez Benz','E300','Navy Blue',2018,200) "
   ]
  },
  {
   "cell_type": "code",
   "execution_count": 13,
   "id": "8a9c6c04",
   "metadata": {},
   "outputs": [
    {
     "name": "stdout",
     "output_type": "stream",
     "text": [
      "Mercedez Benz E300 has started !!!!!!!!!!!!!!!!!\n",
      "None\n",
      "Gear placed on 4\n",
      "None\n",
      "Enter 1 to turn on nitro and 2 to turn off nitro:2\n",
      "Nito Disengaged\n",
      "None\n",
      "Game over!!!!!!!!!! Car stopped\n",
      "None\n"
     ]
    }
   ],
   "source": [
    "print(car2.start())\n",
    "print(car2.gear(4))\n",
    "print(car2.accelerate())\n",
    "print(car2.stop())"
   ]
  },
  {
   "cell_type": "markdown",
   "id": "1f0d0a14",
   "metadata": {},
   "source": [
    "# inheritance"
   ]
  },
  {
   "cell_type": "code",
   "execution_count": 16,
   "id": "d25d2949",
   "metadata": {},
   "outputs": [
    {
     "name": "stdout",
     "output_type": "stream",
     "text": [
      "Mercedez Benz E450 has started !!!!!!!!!!!!!!!!!\n",
      "None\n",
      "Gear placed on 4\n",
      "None\n",
      "Enter 1 to turn on nitro and 2 to turn off nitro:1\n",
      "Nitro engaged\n",
      "None\n",
      "Game over!!!!!!!!!! Car stopped\n",
      "None\n",
      "Enter 1 to open car roof and 2 to close car roof:2\n",
      "Roof closed\n",
      "None\n"
     ]
    }
   ],
   "source": [
    "class cargame(carsimulation):\n",
    "    def openroof(self):\n",
    "        option = int(input('Enter 1 to open car roof and 2 to close car roof:'))\n",
    "        if option ==1:\n",
    "            print('Roof opened')\n",
    "        elif option == 2:\n",
    "            print('Roof closed')\n",
    "        else:\n",
    "            print('Invalid option')\n",
    "car3 = cargame('Mercedez Benz','E450','Navy Blue',2021,300)\n",
    "print(car3.start())\n",
    "print(car3.gear(4))\n",
    "print(car3.accelerate())\n",
    "print(car3.stop())\n",
    "print(car3.openroof())"
   ]
  },
  {
   "cell_type": "markdown",
   "id": "c4c62aa3",
   "metadata": {},
   "source": [
    "# Assignment"
   ]
  },
  {
   "cell_type": "code",
   "execution_count": 9,
   "id": "f148f809",
   "metadata": {},
   "outputs": [
    {
     "name": "stdout",
     "output_type": "stream",
     "text": [
      "please enter your height in cm:55\n",
      "please enter your weight in kg:67\n",
      "Your BMI is 221.4876033057851\n",
      "You are severely obessed.\n"
     ]
    }
   ],
   "source": [
    "class BMI:\n",
    "    def __init__(self,Name,Country,Gender,Age,Weight,Height):\n",
    "        self.Name = Name\n",
    "        self.Country = Country\n",
    "        self.Gender = Gender\n",
    "        self.Age = Age\n",
    "        self.Weight = Weight\n",
    "        self.Height = Height\n",
    "height = float(input(\"please enter your height in cm:\"))\n",
    "weight = float(input(\"please enter your weight in kg:\"))\n",
    "BMI = weight / (height/100)**2\n",
    "print(f\"Your BMI is {BMI}\")\n",
    "if BMI <= 18.4:\n",
    "    print(\"You are underweight.\")\n",
    "elif BMI <= 24.9:\n",
    "    print(\"You are healthy.\")\n",
    "elif BMI <= 29.9:\n",
    "    print(\"You are over weight.\")\n",
    "elif BMI <= 34.9:\n",
    "    print(\"You are severely over weight.\")\n",
    "elif BMI <= 39.9:\n",
    "    print(\"You are obese.\")\n",
    "else:\n",
    "    print(\"You are severely obessed.\")  \n",
    "    def price(self):\n",
    "        print('The price per continent is $50,000')\n",
    "        \n",
    "        "
   ]
  },
  {
   "cell_type": "code",
   "execution_count": 21,
   "id": "0a97c9da",
   "metadata": {},
   "outputs": [
    {
     "name": "stdout",
     "output_type": "stream",
     "text": [
      "please provide your age:35\n",
      "Congratulations your age is {class.Age(35)}\n"
     ]
    }
   ],
   "source": [
    "class Marvelcharacter:\n",
    "    def __init__(self,Name,Origin,Dob,Mainpower,Age,Otherpower):\n",
    "        self.Name = Name\n",
    "        self.Origin = Origin\n",
    "        self.Dob = Dob\n",
    "        self.Mainpower = Mainpower\n",
    "        self.Age = Age\n",
    "        self.Otherpower = Otherpower\n",
    "    def start(self):\n",
    "        print(f'{self.Name} has begun !!!!!!!')\n",
    "age = int(input('please provide your age:'))\n",
    "if age >=18 and age <=40:\n",
    "    print('Congratulations your age is {class.Age(35)}')\n",
    "elif sex == 'M' and age >40 and age <=60:\n",
    "        print('Congratulations you will remain at the head office')\n",
    "character = Marvelcharacter('Black Panther','Africa',35,'Ability to run',1961,'Heart-shaped Herb')"
   ]
  },
  {
   "cell_type": "code",
   "execution_count": 32,
   "id": "0b1179c9",
   "metadata": {},
   "outputs": [],
   "source": [
    "class bikesimulation:\n",
    "    def __init__(self,Brand,Model,Color,Year,Speed):\n",
    "        self.Brand = Brand\n",
    "        self.Model = Model\n",
    "        self.Color = Color\n",
    "        self.Year = Year\n",
    "        self.Speed = Speed\n",
    "    def start(self):\n",
    "        print(f'{self.Brand} {self.Model} race has started !!!!!!!!!!!!!!!!!')\n",
    "    def gear(self,ch):\n",
    "        if ch == 1:\n",
    "            print('Gear placed on 1')\n",
    "        elif ch == 2:\n",
    "            print('Gear placed on 2')\n",
    "        elif ch == 3:\n",
    "            print('Gear placed on 3')\n",
    "        elif ch == 4:\n",
    "            print('Gear placed on 4')\n",
    "        elif ch == 5:\n",
    "            print('Gear placed on 5')\n",
    "        elif ch == 6:\n",
    "            print('Gear placed')\n",
    "    def accelerate(self):\n",
    "        option = int(input('Enter 1 to make bike start and 2 to turn off the brake:'))\n",
    "        if option ==1:\n",
    "            print('Bike start')\n",
    "        elif option == 2:\n",
    "            print('Off the brake')\n",
    "        else:\n",
    "            print('Invalid option')\n",
    "    def stop(self):\n",
    "        print('Game over!!!!!!!!!! Bike overspeed')\n",
    "bike1 = bikesimulation('canyon','strive','Blue',2016,'12mph')\n",
    "bike2 = bikesimulation('canyon','cfr','Navy Blue',2018,'14mph') "
   ]
  },
  {
   "cell_type": "code",
   "execution_count": 33,
   "id": "bd85d741",
   "metadata": {},
   "outputs": [
    {
     "name": "stdout",
     "output_type": "stream",
     "text": [
      "canyon strive race has started !!!!!!!!!!!!!!!!!\n",
      "None\n",
      "Gear placed on 4\n",
      "None\n",
      "Enter 1 to make bike start and 2 to turn off the brake:1\n",
      "Bike start\n",
      "None\n",
      "Game over!!!!!!!!!! Bike overspeed\n",
      "None\n"
     ]
    }
   ],
   "source": [
    "print(bike1.start())\n",
    "print(bike1.gear(4))\n",
    "print(bike1.accelerate())\n",
    "print(bike1.stop())"
   ]
  },
  {
   "cell_type": "code",
   "execution_count": 31,
   "id": "60a17391",
   "metadata": {},
   "outputs": [
    {
     "name": "stdout",
     "output_type": "stream",
     "text": [
      "Canyon Strive race has started !!!!!!!!!!!!!!!!!\n",
      "None\n",
      "Gear placed on 4\n",
      "None\n",
      "Enter 1 to make bike start and 2 to turn off the brake:1\n",
      "Bike start\n",
      "None\n",
      "Game over!!!!!!!!!! Bike overspeed\n",
      "None\n",
      "Enter 1 to fly a bike and 2 ride the bike:1\n",
      "fy a bike\n",
      "None\n"
     ]
    }
   ],
   "source": [
    "class bikegame(bikesimulation):\n",
    "    def fly(self):\n",
    "        option = int(input('Enter 1 to fly a bike and 2 ride the bike:'))\n",
    "        if option ==1:\n",
    "            print('fy a bike')\n",
    "        elif option == 2:\n",
    "            print('Ride the bike')\n",
    "        else:\n",
    "            print('Invalid option')\n",
    "bike3 = bikegame('Canyon','Strive','Navy Blue',2016,'12mph')\n",
    "print(bike3.start())\n",
    "print(bike3.gear(4))\n",
    "print(bike3.accelerate())\n",
    "print(bike3.stop())\n",
    "print(bike3.fly())"
   ]
  },
  {
   "cell_type": "code",
   "execution_count": 1,
   "id": "ff4e3e05",
   "metadata": {},
   "outputs": [],
   "source": [
    "# python errors and built in exception"
   ]
  },
  {
   "cell_type": "code",
   "execution_count": null,
   "id": "1073b377",
   "metadata": {},
   "outputs": [],
   "source": [
    "class phonestore:\n",
    "     def __init__(self,Brand,Model,Color,Ram):\n",
    "            self.Brand = Brand\n",
    "            self.Model = Model\n",
    "            self.Color = Color\n",
    "            self.Ram = Ram\n",
    "    def details(self)\n",
    "            self.details = ('self{Brand} self{Model} are phone products in the store')"
   ]
  }
 ],
 "metadata": {
  "kernelspec": {
   "display_name": "Python 3 (ipykernel)",
   "language": "python",
   "name": "python3"
  },
  "language_info": {
   "codemirror_mode": {
    "name": "ipython",
    "version": 3
   },
   "file_extension": ".py",
   "mimetype": "text/x-python",
   "name": "python",
   "nbconvert_exporter": "python",
   "pygments_lexer": "ipython3",
   "version": "3.9.12"
  }
 },
 "nbformat": 4,
 "nbformat_minor": 5
}
