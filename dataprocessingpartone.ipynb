{
 "cells": [
  {
   "cell_type": "code",
   "execution_count": 1,
   "metadata": {},
   "outputs": [],
   "source": [
    "import numpy as np"
   ]
  },
  {
   "cell_type": "code",
   "execution_count": 2,
   "metadata": {},
   "outputs": [
    {
     "data": {
      "text/plain": [
       "array([45, 59, 65, 32])"
      ]
     },
     "execution_count": 2,
     "metadata": {},
     "output_type": "execute_result"
    }
   ],
   "source": [
    "arr1 = np.array([45,59,65,32])\n",
    "arr1"
   ]
  },
  {
   "cell_type": "code",
   "execution_count": 3,
   "metadata": {},
   "outputs": [
    {
     "data": {
      "text/plain": [
       "(4,)"
      ]
     },
     "execution_count": 3,
     "metadata": {},
     "output_type": "execute_result"
    }
   ],
   "source": [
    "arr1.shape"
   ]
  },
  {
   "cell_type": "code",
   "execution_count": 5,
   "metadata": {},
   "outputs": [
    {
     "data": {
      "text/plain": [
       "1"
      ]
     },
     "execution_count": 5,
     "metadata": {},
     "output_type": "execute_result"
    }
   ],
   "source": [
    "arr1.ndim"
   ]
  },
  {
   "cell_type": "code",
   "execution_count": 6,
   "metadata": {},
   "outputs": [
    {
     "data": {
      "text/plain": [
       "dtype('int32')"
      ]
     },
     "execution_count": 6,
     "metadata": {},
     "output_type": "execute_result"
    }
   ],
   "source": [
    "arr1.dtype"
   ]
  },
  {
   "cell_type": "code",
   "execution_count": 7,
   "metadata": {},
   "outputs": [
    {
     "data": {
      "text/plain": [
       "array([[ 45,  23,  56,  25],\n",
       "       [ 87,  98,  45,  60],\n",
       "       [450,  20,  15,  12]])"
      ]
     },
     "execution_count": 7,
     "metadata": {},
     "output_type": "execute_result"
    }
   ],
   "source": [
    "arr2 = np.array([[45,23,56,25],[87,98,45,60],[450,20,15,12]])\n",
    "arr2"
   ]
  },
  {
   "cell_type": "code",
   "execution_count": 8,
   "metadata": {},
   "outputs": [
    {
     "data": {
      "text/plain": [
       "2"
      ]
     },
     "execution_count": 8,
     "metadata": {},
     "output_type": "execute_result"
    }
   ],
   "source": [
    "arr2.ndim"
   ]
  },
  {
   "cell_type": "code",
   "execution_count": 9,
   "metadata": {},
   "outputs": [
    {
     "data": {
      "text/plain": [
       "(3, 4)"
      ]
     },
     "execution_count": 9,
     "metadata": {},
     "output_type": "execute_result"
    }
   ],
   "source": [
    "arr2.shape"
   ]
  },
  {
   "cell_type": "code",
   "execution_count": 10,
   "metadata": {},
   "outputs": [
    {
     "data": {
      "text/plain": [
       "dtype('int32')"
      ]
     },
     "execution_count": 10,
     "metadata": {},
     "output_type": "execute_result"
    }
   ],
   "source": [
    "arr2.dtype"
   ]
  },
  {
   "cell_type": "code",
   "execution_count": 11,
   "metadata": {},
   "outputs": [
    {
     "data": {
      "text/plain": [
       "array([10.        , 10.30612245, 10.6122449 , 10.91836735, 11.2244898 ,\n",
       "       11.53061224, 11.83673469, 12.14285714, 12.44897959, 12.75510204,\n",
       "       13.06122449, 13.36734694, 13.67346939, 13.97959184, 14.28571429,\n",
       "       14.59183673, 14.89795918, 15.20408163, 15.51020408, 15.81632653,\n",
       "       16.12244898, 16.42857143, 16.73469388, 17.04081633, 17.34693878,\n",
       "       17.65306122, 17.95918367, 18.26530612, 18.57142857, 18.87755102,\n",
       "       19.18367347, 19.48979592, 19.79591837, 20.10204082, 20.40816327,\n",
       "       20.71428571, 21.02040816, 21.32653061, 21.63265306, 21.93877551,\n",
       "       22.24489796, 22.55102041, 22.85714286, 23.16326531, 23.46938776,\n",
       "       23.7755102 , 24.08163265, 24.3877551 , 24.69387755, 25.        ])"
      ]
     },
     "execution_count": 11,
     "metadata": {},
     "output_type": "execute_result"
    }
   ],
   "source": [
    "np.linspace(10,25)"
   ]
  },
  {
   "cell_type": "code",
   "execution_count": 13,
   "metadata": {},
   "outputs": [
    {
     "data": {
      "text/plain": [
       "array([10, 10, 11, 11, 12, 13, 13, 14, 15, 15, 16, 16, 17, 18, 18, 19, 20,\n",
       "       20, 21, 21, 22, 23, 23, 24, 25], dtype=int64)"
      ]
     },
     "execution_count": 13,
     "metadata": {},
     "output_type": "execute_result"
    }
   ],
   "source": [
    "np.linspace(10,25,25,dtype = 'int64')"
   ]
  },
  {
   "cell_type": "code",
   "execution_count": 14,
   "metadata": {},
   "outputs": [
    {
     "data": {
      "text/plain": [
       "array([0., 0., 0., 0., 0., 0., 0., 0., 0., 0., 0., 0., 0., 0., 0.])"
      ]
     },
     "execution_count": 14,
     "metadata": {},
     "output_type": "execute_result"
    }
   ],
   "source": [
    "np.zeros(15)"
   ]
  },
  {
   "cell_type": "code",
   "execution_count": 15,
   "metadata": {},
   "outputs": [
    {
     "data": {
      "text/plain": [
       "array([1., 1., 1., 1., 1., 1., 1., 1., 1., 1.])"
      ]
     },
     "execution_count": 15,
     "metadata": {},
     "output_type": "execute_result"
    }
   ],
   "source": [
    "np.ones(10)"
   ]
  },
  {
   "cell_type": "code",
   "execution_count": 18,
   "metadata": {},
   "outputs": [
    {
     "data": {
      "text/plain": [
       "array([2., 2., 2., 2., 2., 2., 2., 2., 2., 2., 2., 2., 2., 2., 2.])"
      ]
     },
     "execution_count": 18,
     "metadata": {},
     "output_type": "execute_result"
    }
   ],
   "source": [
    "np.ones(15) * 2"
   ]
  },
  {
   "cell_type": "code",
   "execution_count": 20,
   "metadata": {},
   "outputs": [
    {
     "data": {
      "text/plain": [
       "array([[2., 0., 0., 0., 0., 0.],\n",
       "       [0., 2., 0., 0., 0., 0.],\n",
       "       [0., 0., 2., 0., 0., 0.],\n",
       "       [0., 0., 0., 2., 0., 0.],\n",
       "       [0., 0., 0., 0., 2., 0.],\n",
       "       [0., 0., 0., 0., 0., 2.]])"
      ]
     },
     "execution_count": 20,
     "metadata": {},
     "output_type": "execute_result"
    }
   ],
   "source": [
    "np.eye(6) "
   ]
  },
  {
   "cell_type": "code",
   "execution_count": 29,
   "metadata": {},
   "outputs": [
    {
     "data": {
      "text/plain": [
       "array([  1,   2,   3,   4,   5,   6,   7,   8,   9,  10,  11,  12,  13,\n",
       "        14,  15,  16,  17,  18,  19,  20,  21,  22,  23,  24,  25,  26,\n",
       "        27,  28,  29,  30,  31,  32,  33,  34,  35,  36,  37,  38,  39,\n",
       "        40,  41,  42,  43,  44,  45,  46,  47,  48,  49,  50,  51,  52,\n",
       "        53,  54,  55,  56,  57,  58,  59,  60,  61,  62,  63,  64,  65,\n",
       "        66,  67,  68,  69,  70,  71,  72,  73,  74,  75,  76,  77,  78,\n",
       "        79,  80,  81,  82,  83,  84,  85,  86,  87,  88,  89,  90,  91,\n",
       "        92,  93,  94,  95,  96,  97,  98,  99, 100])"
      ]
     },
     "execution_count": 29,
     "metadata": {},
     "output_type": "execute_result"
    }
   ],
   "source": [
    "arr3 = np.arange(1,101)\n",
    "arr3"
   ]
  },
  {
   "cell_type": "code",
   "execution_count": 23,
   "metadata": {},
   "outputs": [
    {
     "data": {
      "text/plain": [
       "array([  1,   4,   7,  10,  13,  16,  19,  22,  25,  28,  31,  34,  37,\n",
       "        40,  43,  46,  49,  52,  55,  58,  61,  64,  67,  70,  73,  76,\n",
       "        79,  82,  85,  88,  91,  94,  97, 100])"
      ]
     },
     "execution_count": 23,
     "metadata": {},
     "output_type": "execute_result"
    }
   ],
   "source": [
    "arr3 = np.arange(1,101,3)\n",
    "arr3"
   ]
  },
  {
   "cell_type": "code",
   "execution_count": 3,
   "metadata": {},
   "outputs": [
    {
     "data": {
      "text/plain": [
       "46"
      ]
     },
     "execution_count": 3,
     "metadata": {},
     "output_type": "execute_result"
    }
   ],
   "source": [
    "arr4 = np.random.randint(45,80)\n",
    "arr4"
   ]
  },
  {
   "cell_type": "code",
   "execution_count": 5,
   "metadata": {},
   "outputs": [
    {
     "data": {
      "text/plain": [
       "array([57, 53, 54, 56, 50, 60, 45, 61, 46, 57, 52, 51, 70, 65, 63, 65, 56,\n",
       "       73, 74, 59, 49, 68, 68, 75, 77, 67, 58, 54, 52, 67, 46, 45, 62, 53,\n",
       "       69, 58, 53, 75, 52, 48, 51, 66, 48, 49, 69, 57, 71, 61, 63, 60, 45,\n",
       "       49, 70, 79, 68, 52, 71, 70, 67, 54, 48, 68, 72, 64, 53, 77, 79, 55,\n",
       "       68, 60, 68, 70, 52, 73, 55, 77, 69, 68, 46, 58, 48, 45, 58, 51, 66,\n",
       "       51, 47, 57, 72, 66, 56, 52, 58, 53, 56, 57, 65, 75, 52, 49])"
      ]
     },
     "execution_count": 5,
     "metadata": {},
     "output_type": "execute_result"
    }
   ],
   "source": [
    "np.random.seed(1)\n",
    "arr4 = np.random.randint(45,80,100)\n",
    "arr4"
   ]
  },
  {
   "cell_type": "code",
   "execution_count": 6,
   "metadata": {},
   "outputs": [
    {
     "data": {
      "text/plain": [
       "array([[57, 53, 54, 56, 50, 60, 45, 61, 46, 57],\n",
       "       [52, 51, 70, 65, 63, 65, 56, 73, 74, 59],\n",
       "       [49, 68, 68, 75, 77, 67, 58, 54, 52, 67],\n",
       "       [46, 45, 62, 53, 69, 58, 53, 75, 52, 48],\n",
       "       [51, 66, 48, 49, 69, 57, 71, 61, 63, 60],\n",
       "       [45, 49, 70, 79, 68, 52, 71, 70, 67, 54],\n",
       "       [48, 68, 72, 64, 53, 77, 79, 55, 68, 60],\n",
       "       [68, 70, 52, 73, 55, 77, 69, 68, 46, 58],\n",
       "       [48, 45, 58, 51, 66, 51, 47, 57, 72, 66],\n",
       "       [56, 52, 58, 53, 56, 57, 65, 75, 52, 49]])"
      ]
     },
     "execution_count": 6,
     "metadata": {},
     "output_type": "execute_result"
    }
   ],
   "source": [
    "arr4 = arr4.reshape(10,10) #reshape convert 1D to 2D\n",
    "arr4"
   ]
  },
  {
   "cell_type": "code",
   "execution_count": 7,
   "metadata": {},
   "outputs": [
    {
     "data": {
      "text/plain": [
       "57"
      ]
     },
     "execution_count": 7,
     "metadata": {},
     "output_type": "execute_result"
    }
   ],
   "source": [
    "arr4[4,5]"
   ]
  },
  {
   "cell_type": "code",
   "execution_count": 8,
   "metadata": {},
   "outputs": [
    {
     "data": {
      "text/plain": [
       "array([[53, 69, 58, 53, 75],\n",
       "       [49, 69, 57, 71, 61],\n",
       "       [79, 68, 52, 71, 70],\n",
       "       [64, 53, 77, 79, 55],\n",
       "       [73, 55, 77, 69, 68]])"
      ]
     },
     "execution_count": 8,
     "metadata": {},
     "output_type": "execute_result"
    }
   ],
   "source": [
    "arr4[3:8,3:8]"
   ]
  },
  {
   "cell_type": "code",
   "execution_count": 10,
   "metadata": {},
   "outputs": [
    {
     "data": {
      "text/plain": [
       "array([[57, 53, 54, 56, 50, 60, 45, 61, 46, 57],\n",
       "       [52, 51, 70, 65, 63, 65, 56, 73, 74, 59],\n",
       "       [49, 68, 68, 75, 77, 67, 58, 54, 52, 67],\n",
       "       [46, 45, 62, 50, 50, 50, 50, 50, 52, 48],\n",
       "       [51, 66, 48, 50, 50, 50, 50, 50, 63, 60],\n",
       "       [45, 49, 70, 50, 50, 50, 50, 50, 67, 54],\n",
       "       [48, 68, 72, 50, 50, 50, 50, 50, 68, 60],\n",
       "       [68, 70, 52, 50, 50, 50, 50, 50, 46, 58],\n",
       "       [48, 45, 58, 51, 66, 51, 47, 57, 72, 66],\n",
       "       [56, 52, 58, 53, 56, 57, 65, 75, 52, 49]])"
      ]
     },
     "execution_count": 10,
     "metadata": {},
     "output_type": "execute_result"
    }
   ],
   "source": [
    "arr4[3:8,3:8] = 50\n",
    "arr4"
   ]
  },
  {
   "cell_type": "code",
   "execution_count": 11,
   "metadata": {},
   "outputs": [
    {
     "data": {
      "text/plain": [
       "array([57, 53, 54, 56, 50, 60, 45, 61, 46, 57, 52, 51, 70, 65, 63, 65, 56,\n",
       "       73, 74, 59, 49, 68, 68, 75, 77, 67, 58, 54, 52, 67, 46, 45, 62, 50,\n",
       "       50, 50, 50, 50, 52, 48, 51, 66, 48, 50, 50, 50, 50, 50, 63, 60, 45,\n",
       "       49, 70, 50, 50, 50, 50, 50, 67, 54, 48, 68, 72, 50, 50, 50, 50, 50,\n",
       "       68, 60, 68, 70, 52, 50, 50, 50, 50, 50, 46, 58, 48, 45, 58, 51, 66,\n",
       "       51, 47, 57, 72, 66, 56, 52, 58, 53, 56, 57, 65, 75, 52, 49])"
      ]
     },
     "execution_count": 11,
     "metadata": {},
     "output_type": "execute_result"
    }
   ],
   "source": [
    "arr4.flatten() #flatten is to return 2D to 1D"
   ]
  },
  {
   "cell_type": "code",
   "execution_count": 12,
   "metadata": {},
   "outputs": [
    {
     "data": {
      "text/plain": [
       "array([57, 53, 54, 56, 60, 61, 57, 52, 51, 70, 65, 63, 65, 56, 73, 74, 59,\n",
       "       68, 68, 75, 77, 67, 58, 54, 52, 67, 62, 52, 51, 66, 63, 60, 70, 67,\n",
       "       54, 68, 72, 68, 60, 68, 70, 52, 58, 58, 51, 66, 51, 57, 72, 66, 56,\n",
       "       52, 58, 53, 56, 57, 65, 75, 52])"
      ]
     },
     "execution_count": 12,
     "metadata": {},
     "output_type": "execute_result"
    }
   ],
   "source": [
    "arr4[arr4>50] #shows all the numbers that are greater than 50"
   ]
  },
  {
   "cell_type": "code",
   "execution_count": 13,
   "metadata": {},
   "outputs": [
    {
     "data": {
      "text/plain": [
       "array([50, 50, 50, 50, 50, 50, 50, 50, 50, 50, 50, 50, 50, 50, 50, 50, 50,\n",
       "       50, 50, 50, 50, 50, 50, 50, 50, 50])"
      ]
     },
     "execution_count": 13,
     "metadata": {},
     "output_type": "execute_result"
    }
   ],
   "source": [
    "arr4[arr4 == 50]"
   ]
  },
  {
   "cell_type": "code",
   "execution_count": 14,
   "metadata": {},
   "outputs": [
    {
     "data": {
      "text/plain": [
       "5622"
      ]
     },
     "execution_count": 14,
     "metadata": {},
     "output_type": "execute_result"
    }
   ],
   "source": [
    "np.sum(arr4)"
   ]
  },
  {
   "cell_type": "code",
   "execution_count": 15,
   "metadata": {},
   "outputs": [
    {
     "data": {
      "text/plain": [
       "56.22"
      ]
     },
     "execution_count": 15,
     "metadata": {},
     "output_type": "execute_result"
    }
   ],
   "source": [
    "np.mean(arr4)"
   ]
  },
  {
   "cell_type": "code",
   "execution_count": 16,
   "metadata": {},
   "outputs": [
    {
     "data": {
      "text/plain": [
       "52.0"
      ]
     },
     "execution_count": 16,
     "metadata": {},
     "output_type": "execute_result"
    }
   ],
   "source": [
    "np.median(arr4)"
   ]
  },
  {
   "cell_type": "code",
   "execution_count": 17,
   "metadata": {},
   "outputs": [
    {
     "data": {
      "text/plain": [
       "8.463545356409451"
      ]
     },
     "execution_count": 17,
     "metadata": {},
     "output_type": "execute_result"
    }
   ],
   "source": [
    "np.std(arr4)"
   ]
  },
  {
   "cell_type": "code",
   "execution_count": 19,
   "metadata": {},
   "outputs": [
    {
     "data": {
      "text/plain": [
       "71.63159999999999"
      ]
     },
     "execution_count": 19,
     "metadata": {},
     "output_type": "execute_result"
    }
   ],
   "source": [
    "np.var(arr4)"
   ]
  },
  {
   "cell_type": "code",
   "execution_count": 20,
   "metadata": {},
   "outputs": [
    {
     "data": {
      "text/plain": [
       "array([[7.54983444, 7.28010989, 7.34846923, 7.48331477, 7.07106781,\n",
       "        7.74596669, 6.70820393, 7.81024968, 6.78232998, 7.54983444],\n",
       "       [7.21110255, 7.14142843, 8.36660027, 8.06225775, 7.93725393,\n",
       "        8.06225775, 7.48331477, 8.54400375, 8.60232527, 7.68114575],\n",
       "       [7.        , 8.24621125, 8.24621125, 8.66025404, 8.77496439,\n",
       "        8.18535277, 7.61577311, 7.34846923, 7.21110255, 8.18535277],\n",
       "       [6.78232998, 6.70820393, 7.87400787, 7.07106781, 7.07106781,\n",
       "        7.07106781, 7.07106781, 7.07106781, 7.21110255, 6.92820323],\n",
       "       [7.14142843, 8.1240384 , 6.92820323, 7.07106781, 7.07106781,\n",
       "        7.07106781, 7.07106781, 7.07106781, 7.93725393, 7.74596669],\n",
       "       [6.70820393, 7.        , 8.36660027, 7.07106781, 7.07106781,\n",
       "        7.07106781, 7.07106781, 7.07106781, 8.18535277, 7.34846923],\n",
       "       [6.92820323, 8.24621125, 8.48528137, 7.07106781, 7.07106781,\n",
       "        7.07106781, 7.07106781, 7.07106781, 8.24621125, 7.74596669],\n",
       "       [8.24621125, 8.36660027, 7.21110255, 7.07106781, 7.07106781,\n",
       "        7.07106781, 7.07106781, 7.07106781, 6.78232998, 7.61577311],\n",
       "       [6.92820323, 6.70820393, 7.61577311, 7.14142843, 8.1240384 ,\n",
       "        7.14142843, 6.8556546 , 7.54983444, 8.48528137, 8.1240384 ],\n",
       "       [7.48331477, 7.21110255, 7.61577311, 7.28010989, 7.48331477,\n",
       "        7.54983444, 8.06225775, 8.66025404, 7.21110255, 7.        ]])"
      ]
     },
     "execution_count": 20,
     "metadata": {},
     "output_type": "execute_result"
    }
   ],
   "source": [
    "np.sqrt(arr4)"
   ]
  },
  {
   "cell_type": "code",
   "execution_count": 21,
   "metadata": {},
   "outputs": [
    {
     "data": {
      "text/plain": [
       "77"
      ]
     },
     "execution_count": 21,
     "metadata": {},
     "output_type": "execute_result"
    }
   ],
   "source": [
    "np.max(arr4)"
   ]
  },
  {
   "cell_type": "code",
   "execution_count": 22,
   "metadata": {},
   "outputs": [
    {
     "data": {
      "text/plain": [
       "45"
      ]
     },
     "execution_count": 22,
     "metadata": {},
     "output_type": "execute_result"
    }
   ],
   "source": [
    "np.min(arr4)"
   ]
  },
  {
   "cell_type": "code",
   "execution_count": 23,
   "metadata": {},
   "outputs": [
    {
     "data": {
      "text/plain": [
       "24"
      ]
     },
     "execution_count": 23,
     "metadata": {},
     "output_type": "execute_result"
    }
   ],
   "source": [
    "np.argmax(arr4) #it returns the location of the maximum value"
   ]
  },
  {
   "cell_type": "code",
   "execution_count": 24,
   "metadata": {},
   "outputs": [
    {
     "data": {
      "text/plain": [
       "6"
      ]
     },
     "execution_count": 24,
     "metadata": {},
     "output_type": "execute_result"
    }
   ],
   "source": [
    "np.argmin(arr4)"
   ]
  },
  {
   "cell_type": "code",
   "execution_count": 25,
   "metadata": {},
   "outputs": [
    {
     "data": {
      "text/plain": [
       "50.0"
      ]
     },
     "execution_count": 25,
     "metadata": {},
     "output_type": "execute_result"
    }
   ],
   "source": [
    "np.percentile(arr4,20)"
   ]
  },
  {
   "cell_type": "code",
   "execution_count": 26,
   "metadata": {},
   "outputs": [
    {
     "data": {
      "text/plain": [
       "63.0"
      ]
     },
     "execution_count": 26,
     "metadata": {},
     "output_type": "execute_result"
    }
   ],
   "source": [
    "np.percentile(arr4,75)"
   ]
  },
  {
   "cell_type": "code",
   "execution_count": 27,
   "metadata": {},
   "outputs": [
    {
     "name": "stdout",
     "output_type": "stream",
     "text": [
      "['ALLOW_THREADS', 'AxisError', 'BUFSIZE', 'Bytes0', 'CLIP', 'ComplexWarning', 'DataSource', 'Datetime64', 'ERR_CALL', 'ERR_DEFAULT', 'ERR_IGNORE', 'ERR_LOG', 'ERR_PRINT', 'ERR_RAISE', 'ERR_WARN', 'FLOATING_POINT_SUPPORT', 'FPE_DIVIDEBYZERO', 'FPE_INVALID', 'FPE_OVERFLOW', 'FPE_UNDERFLOW', 'False_', 'Inf', 'Infinity', 'MAXDIMS', 'MAY_SHARE_BOUNDS', 'MAY_SHARE_EXACT', 'MachAr', 'ModuleDeprecationWarning', 'NAN', 'NINF', 'NZERO', 'NaN', 'PINF', 'PZERO', 'RAISE', 'RankWarning', 'SHIFT_DIVIDEBYZERO', 'SHIFT_INVALID', 'SHIFT_OVERFLOW', 'SHIFT_UNDERFLOW', 'ScalarType', 'Str0', 'Tester', 'TooHardError', 'True_', 'UFUNC_BUFSIZE_DEFAULT', 'UFUNC_PYVALS_NAME', 'Uint64', 'VisibleDeprecationWarning', 'WRAP', '_NoValue', '_UFUNC_API', '__NUMPY_SETUP__', '__all__', '__builtins__', '__cached__', '__config__', '__deprecated_attrs__', '__dir__', '__doc__', '__expired_functions__', '__file__', '__getattr__', '__git_version__', '__loader__', '__mkl_version__', '__name__', '__package__', '__path__', '__spec__', '__version__', '_add_newdoc_ufunc', '_distributor_init', '_financial_names', '_globals', '_mat', '_pytesttester', '_version', 'abs', 'absolute', 'add', 'add_docstring', 'add_newdoc', 'add_newdoc_ufunc', 'alen', 'all', 'allclose', 'alltrue', 'amax', 'amin', 'angle', 'any', 'append', 'apply_along_axis', 'apply_over_axes', 'arange', 'arccos', 'arccosh', 'arcsin', 'arcsinh', 'arctan', 'arctan2', 'arctanh', 'argmax', 'argmin', 'argpartition', 'argsort', 'argwhere', 'around', 'array', 'array2string', 'array_equal', 'array_equiv', 'array_repr', 'array_split', 'array_str', 'asanyarray', 'asarray', 'asarray_chkfinite', 'ascontiguousarray', 'asfarray', 'asfortranarray', 'asmatrix', 'asscalar', 'atleast_1d', 'atleast_2d', 'atleast_3d', 'average', 'bartlett', 'base_repr', 'binary_repr', 'bincount', 'bitwise_and', 'bitwise_not', 'bitwise_or', 'bitwise_xor', 'blackman', 'block', 'bmat', 'bool8', 'bool_', 'broadcast', 'broadcast_arrays', 'broadcast_shapes', 'broadcast_to', 'busday_count', 'busday_offset', 'busdaycalendar', 'byte', 'byte_bounds', 'bytes0', 'bytes_', 'c_', 'can_cast', 'cast', 'cbrt', 'cdouble', 'ceil', 'cfloat', 'char', 'character', 'chararray', 'choose', 'clip', 'clongdouble', 'clongfloat', 'column_stack', 'common_type', 'compare_chararrays', 'compat', 'complex128', 'complex64', 'complex_', 'complexfloating', 'compress', 'concatenate', 'conj', 'conjugate', 'convolve', 'copy', 'copysign', 'copyto', 'core', 'corrcoef', 'correlate', 'cos', 'cosh', 'count_nonzero', 'cov', 'cross', 'csingle', 'ctypeslib', 'cumprod', 'cumproduct', 'cumsum', 'datetime64', 'datetime_as_string', 'datetime_data', 'deg2rad', 'degrees', 'delete', 'deprecate', 'deprecate_with_doc', 'diag', 'diag_indices', 'diag_indices_from', 'diagflat', 'diagonal', 'diff', 'digitize', 'disp', 'divide', 'divmod', 'dot', 'double', 'dsplit', 'dstack', 'dtype', 'e', 'ediff1d', 'einsum', 'einsum_path', 'emath', 'empty', 'empty_like', 'equal', 'errstate', 'euler_gamma', 'exp', 'exp2', 'expand_dims', 'expm1', 'extract', 'eye', 'fabs', 'fastCopyAndTranspose', 'fft', 'fill_diagonal', 'find_common_type', 'finfo', 'fix', 'flatiter', 'flatnonzero', 'flexible', 'flip', 'fliplr', 'flipud', 'float16', 'float32', 'float64', 'float_', 'float_power', 'floating', 'floor', 'floor_divide', 'fmax', 'fmin', 'fmod', 'format_float_positional', 'format_float_scientific', 'format_parser', 'frexp', 'frombuffer', 'fromfile', 'fromfunction', 'fromiter', 'frompyfunc', 'fromregex', 'fromstring', 'full', 'full_like', 'gcd', 'generic', 'genfromtxt', 'geomspace', 'get_array_wrap', 'get_include', 'get_printoptions', 'getbufsize', 'geterr', 'geterrcall', 'geterrobj', 'gradient', 'greater', 'greater_equal', 'half', 'hamming', 'hanning', 'heaviside', 'histogram', 'histogram2d', 'histogram_bin_edges', 'histogramdd', 'hsplit', 'hstack', 'hypot', 'i0', 'identity', 'iinfo', 'imag', 'in1d', 'index_exp', 'indices', 'inexact', 'inf', 'info', 'infty', 'inner', 'insert', 'int0', 'int16', 'int32', 'int64', 'int8', 'int_', 'intc', 'integer', 'interp', 'intersect1d', 'intp', 'invert', 'is_busday', 'isclose', 'iscomplex', 'iscomplexobj', 'isfinite', 'isfortran', 'isin', 'isinf', 'isnan', 'isnat', 'isneginf', 'isposinf', 'isreal', 'isrealobj', 'isscalar', 'issctype', 'issubclass_', 'issubdtype', 'issubsctype', 'iterable', 'ix_', 'kaiser', 'kron', 'lcm', 'ldexp', 'left_shift', 'less', 'less_equal', 'lexsort', 'lib', 'linalg', 'linspace', 'little_endian', 'load', 'loads', 'loadtxt', 'log', 'log10', 'log1p', 'log2', 'logaddexp', 'logaddexp2', 'logical_and', 'logical_not', 'logical_or', 'logical_xor', 'logspace', 'longcomplex', 'longdouble', 'longfloat', 'longlong', 'lookfor', 'ma', 'mafromtxt', 'mask_indices', 'mat', 'math', 'matmul', 'matrix', 'matrixlib', 'max', 'maximum', 'maximum_sctype', 'may_share_memory', 'mean', 'median', 'memmap', 'meshgrid', 'mgrid', 'min', 'min_scalar_type', 'minimum', 'mintypecode', 'mkl', 'mod', 'modf', 'moveaxis', 'msort', 'multiply', 'nan', 'nan_to_num', 'nanargmax', 'nanargmin', 'nancumprod', 'nancumsum', 'nanmax', 'nanmean', 'nanmedian', 'nanmin', 'nanpercentile', 'nanprod', 'nanquantile', 'nanstd', 'nansum', 'nanvar', 'nbytes', 'ndarray', 'ndenumerate', 'ndfromtxt', 'ndim', 'ndindex', 'nditer', 'negative', 'nested_iters', 'newaxis', 'nextafter', 'nonzero', 'not_equal', 'numarray', 'number', 'obj2sctype', 'object0', 'object_', 'ogrid', 'oldnumeric', 'ones', 'ones_like', 'os', 'outer', 'packbits', 'pad', 'partition', 'percentile', 'pi', 'piecewise', 'place', 'poly', 'poly1d', 'polyadd', 'polyder', 'polydiv', 'polyfit', 'polyint', 'polymul', 'polynomial', 'polysub', 'polyval', 'positive', 'power', 'printoptions', 'prod', 'product', 'promote_types', 'ptp', 'put', 'put_along_axis', 'putmask', 'quantile', 'r_', 'rad2deg', 'radians', 'random', 'ravel', 'ravel_multi_index', 'real', 'real_if_close', 'rec', 'recarray', 'recfromcsv', 'recfromtxt', 'reciprocal', 'record', 'remainder', 'repeat', 'require', 'reshape', 'resize', 'result_type', 'right_shift', 'rint', 'roll', 'rollaxis', 'roots', 'rot90', 'round', 'round_', 'row_stack', 's_', 'safe_eval', 'save', 'savetxt', 'savez', 'savez_compressed', 'sctype2char', 'sctypeDict', 'sctypes', 'searchsorted', 'select', 'set_numeric_ops', 'set_printoptions', 'set_string_function', 'setbufsize', 'setdiff1d', 'seterr', 'seterrcall', 'seterrobj', 'setxor1d', 'shape', 'shares_memory', 'short', 'show_config', 'sign', 'signbit', 'signedinteger', 'sin', 'sinc', 'single', 'singlecomplex', 'sinh', 'size', 'sometrue', 'sort', 'sort_complex', 'source', 'spacing', 'split', 'sqrt', 'square', 'squeeze', 'stack', 'std', 'str0', 'str_', 'string_', 'subtract', 'sum', 'swapaxes', 'sys', 'take', 'take_along_axis', 'tan', 'tanh', 'tensordot', 'test', 'testing', 'tile', 'timedelta64', 'trace', 'tracemalloc_domain', 'transpose', 'trapz', 'tri', 'tril', 'tril_indices', 'tril_indices_from', 'trim_zeros', 'triu', 'triu_indices', 'triu_indices_from', 'true_divide', 'trunc', 'typecodes', 'typename', 'ubyte', 'ufunc', 'uint', 'uint0', 'uint16', 'uint32', 'uint64', 'uint8', 'uintc', 'uintp', 'ulonglong', 'unicode_', 'union1d', 'unique', 'unpackbits', 'unravel_index', 'unsignedinteger', 'unwrap', 'use_hugepage', 'ushort', 'vander', 'var', 'vdot', 'vectorize', 'version', 'void', 'void0', 'vsplit', 'vstack', 'warnings', 'where', 'who', 'zeros', 'zeros_like']\n"
     ]
    }
   ],
   "source": [
    "print(dir(np))"
   ]
  },
  {
   "cell_type": "code",
   "execution_count": null,
   "metadata": {},
   "outputs": [],
   "source": [
    "#generate a random array between 50 and 105 consisting of 400 values, reshape this array to equal rows and columns\n",
    "#retrieve the values from the 5t to 10th and 7th to 15th column\n",
    "##write a condition to retrieve values >=70\n",
    "#return the output of the following operations\n",
    "#sum of the array, max value, min values, 25,,80,85,90,95 percentile"
   ]
  },
  {
   "cell_type": "code",
   "execution_count": 28,
   "metadata": {},
   "outputs": [
    {
     "data": {
      "text/plain": [
       "array([ 50,  51,  52,  53,  54,  55,  56,  57,  58,  59,  60,  61,  62,\n",
       "        63,  64,  65,  66,  67,  68,  69,  70,  71,  72,  73,  74,  75,\n",
       "        76,  77,  78,  79,  80,  81,  82,  83,  84,  85,  86,  87,  88,\n",
       "        89,  90,  91,  92,  93,  94,  95,  96,  97,  98,  99, 100, 101,\n",
       "       102, 103, 104, 105])"
      ]
     },
     "execution_count": 28,
     "metadata": {},
     "output_type": "execute_result"
    }
   ],
   "source": [
    "arr5 = np.arange(50,106)\n",
    "arr5"
   ]
  },
  {
   "cell_type": "code",
   "execution_count": 30,
   "metadata": {},
   "outputs": [
    {
     "data": {
      "text/plain": [
       "array([ 50,  50,  50,  50,  50,  50,  50,  50,  51,  51,  51,  51,  51,\n",
       "        51,  51,  52,  52,  52,  52,  52,  52,  52,  53,  53,  53,  53,\n",
       "        53,  53,  53,  54,  54,  54,  54,  54,  54,  54,  55,  55,  55,\n",
       "        55,  55,  55,  55,  56,  56,  56,  56,  56,  56,  56,  57,  57,\n",
       "        57,  57,  57,  57,  57,  58,  58,  58,  58,  58,  58,  58,  58,\n",
       "        59,  59,  59,  59,  59,  59,  59,  60,  60,  60,  60,  60,  60,\n",
       "        60,  61,  61,  61,  61,  61,  61,  61,  62,  62,  62,  62,  62,\n",
       "        62,  62,  63,  63,  63,  63,  63,  63,  63,  64,  64,  64,  64,\n",
       "        64,  64,  64,  65,  65,  65,  65,  65,  65,  65,  66,  66,  66,\n",
       "        66,  66,  66,  66,  66,  67,  67,  67,  67,  67,  67,  67,  68,\n",
       "        68,  68,  68,  68,  68,  68,  69,  69,  69,  69,  69,  69,  69,\n",
       "        70,  70,  70,  70,  70,  70,  70,  71,  71,  71,  71,  71,  71,\n",
       "        71,  72,  72,  72,  72,  72,  72,  72,  73,  73,  73,  73,  73,\n",
       "        73,  73,  74,  74,  74,  74,  74,  74,  74,  74,  75,  75,  75,\n",
       "        75,  75,  75,  75,  76,  76,  76,  76,  76,  76,  76,  77,  77,\n",
       "        77,  77,  77,  77,  77,  78,  78,  78,  78,  78,  78,  78,  79,\n",
       "        79,  79,  79,  79,  79,  79,  80,  80,  80,  80,  80,  80,  80,\n",
       "        81,  81,  81,  81,  81,  81,  81,  82,  82,  82,  82,  82,  82,\n",
       "        82,  82,  83,  83,  83,  83,  83,  83,  83,  84,  84,  84,  84,\n",
       "        84,  84,  84,  85,  85,  85,  85,  85,  85,  85,  86,  86,  86,\n",
       "        86,  86,  86,  86,  87,  87,  87,  87,  87,  87,  87,  88,  88,\n",
       "        88,  88,  88,  88,  88,  89,  89,  89,  89,  89,  89,  89,  90,\n",
       "        90,  90,  90,  90,  90,  90,  90,  91,  91,  91,  91,  91,  91,\n",
       "        91,  92,  92,  92,  92,  92,  92,  92,  93,  93,  93,  93,  93,\n",
       "        93,  93,  94,  94,  94,  94,  94,  94,  94,  95,  95,  95,  95,\n",
       "        95,  95,  95,  96,  96,  96,  96,  96,  96,  96,  97,  97,  97,\n",
       "        97,  97,  97,  97,  98,  98,  98,  98,  98,  98,  98,  98,  99,\n",
       "        99,  99,  99,  99,  99,  99, 100, 100, 100, 100, 100, 100, 100,\n",
       "       101, 101, 101, 101, 101, 101, 101, 102, 102, 102, 102, 102, 102,\n",
       "       102, 103, 103, 103, 103, 103, 103, 103, 104, 104, 104, 104, 104,\n",
       "       104, 104, 105, 105, 105, 105, 105, 105, 105, 106], dtype=int64)"
      ]
     },
     "execution_count": 30,
     "metadata": {},
     "output_type": "execute_result"
    }
   ],
   "source": [
    "np.linspace(50,106,400,dtype = 'int64')"
   ]
  },
  {
   "cell_type": "code",
   "execution_count": 32,
   "metadata": {},
   "outputs": [
    {
     "data": {
      "text/plain": [
       "array([ 68,  82,  63,  60,  73,  67,  57,  74,  60,  78,  70,  82,  62,\n",
       "        51,  80,  91,  74,  68, 101,  83,  52,  94,  78,  89,  84,  60,\n",
       "       104,  82,  91,  68,  72,  56,  52,  57,  89,  98, 104,  65,  55,\n",
       "        67,  92,  70, 104,  98,  72,  87,  63,  99, 100,  83, 103,  70,\n",
       "        60,  82,  75,  71,  89,  82,  69,  75,  99,  64,  63,  70, 102,\n",
       "        93,  56,  63,  65,  74,  59,  52,  57, 103,  55,  86,  87,  71,\n",
       "        90,  63,  77,  99,  99,  97,  63,  90,  64,  95,  73,  66,  78,\n",
       "        92,  95,  53, 102,  52,  64,  96,  50,  79,  61,  85, 103,  79,\n",
       "        83,  52,  70,  69,  98, 104,  82,  78,  68,  81,  78,  80,  60,\n",
       "        58,  95,  85,  82,  58,  70,  63, 100,  65,  91,  50,  94,  69,\n",
       "        74,  99,  92,  70,  94,  65,  80,  77,  64, 101,  69,  76,  93,\n",
       "        72,  57,  85, 103,  97,  96, 101,  84,  86,  86,  82,  69,  53,\n",
       "        74,  69,  87,  80,  88,  97,  89,  55,  65,  99,  73,  82,  92,\n",
       "        60,  52,  74,  84,  80,  67,  54,  50, 102,  64,  67,  89,  85,\n",
       "        67,  78,  72,  88,  91,  60,  63,  56,  75,  88,  98,  98, 100,\n",
       "        94,  91, 104,  50,  72,  66,  69,  59,  98,  78, 101,  97,  60,\n",
       "        54,  73,  64,  71,  96,  53,  74,  66,  96, 104,  65,  57,  64,\n",
       "        63,  65,  75, 103,  70,  71, 100,  96,  79,  94,  87,  72,  77,\n",
       "       104,  62,  62,  76,  62,  57,  73,  89,  93,  62, 100,  88,  77,\n",
       "        98,  55,  84,  83,  93,  76,  55,  59, 102,  75,  77,  93,  51,\n",
       "        68,  80,  82,  76,  70,  80,  89,  50,  72,  84, 102,  53,  56,\n",
       "        62,  89,  88,  69,  97,  98,  56,  63,  86,  73,  72,  52,  78,\n",
       "        92,  81, 103,  59,  91,  74,  95, 104,  79, 102,  62,  68,  92,\n",
       "        61,  91,  86,  98,  66,  80, 101,  92,  70,  85,  91,  67,  52,\n",
       "        71,  79,  86,  95,  96,  66,  77,  58,  78,  52,  85,  63,  91,\n",
       "        86,  86,  90,  68,  83,  88, 101,  96,  90,  75,  89,  98,  87,\n",
       "        52,  84,  78,  64,  61,  92,  76,  90,  71,  66,  78,  87,  91,\n",
       "        95,  90,  92,  61,  72,  56,  82,  64,  86,  73,  61,  85,  82,\n",
       "        96,  77,  99,  88,  50,  72,  83,  56,  86,  68,  77,  78,  87,\n",
       "       102,  88, 100,  80, 100,  96,  57,  71,  66,  89,  79,  61,  64,\n",
       "        90,  80,  58,  90,  98,  80,  73,  52,  78,  50])"
      ]
     },
     "execution_count": 32,
     "metadata": {},
     "output_type": "execute_result"
    }
   ],
   "source": [
    "arr4 = np.random.randint(50,105,400)\n",
    "arr4"
   ]
  },
  {
   "cell_type": "code",
   "execution_count": 46,
   "metadata": {},
   "outputs": [
    {
     "data": {
      "text/plain": [
       "array([[ 68,  82,  63,  60,  73,  67,  57,  74,  60,  78,  70,  82,  62,\n",
       "         51,  80,  91,  74,  68, 101,  83],\n",
       "       [ 52,  94,  78,  89,  84,  60, 104,  82,  91,  68,  72,  56,  52,\n",
       "         57,  89,  98, 104,  65,  55,  67],\n",
       "       [ 92,  70, 104,  98,  72,  87,  63,  99, 100,  83, 103,  70,  60,\n",
       "         82,  75,  71,  89,  82,  69,  75],\n",
       "       [ 99,  64,  63,  70, 102,  93,  56,  63,  65,  74,  59,  52,  57,\n",
       "        103,  55,  86,  87,  71,  90,  63],\n",
       "       [ 77,  99,  99,  97,  63,  90,  64,  95,  73,  66,  78,  92,  95,\n",
       "         53, 102,  52,  64,  96,  50,  79],\n",
       "       [ 61,  85, 103,  79,  83,  52,  70,  69,  98, 104,  82,  78,  68,\n",
       "         81,  78,  80,  60,  58,  95,  85],\n",
       "       [ 82,  58,  70,  63, 100,  65,  91,  50,  94,  69,  74,  99,  92,\n",
       "         70,  94,  65,  80,  77,  64, 101],\n",
       "       [ 69,  76,  93,  72,  57,  85, 103,  97,  96, 101,  84,  86,  86,\n",
       "         82,  69,  53,  74,  69,  87,  80],\n",
       "       [ 88,  97,  89,  55,  65,  99,  73,  82,  92,  60,  52,  74,  84,\n",
       "         80,  67,  54,  50, 102,  64,  67],\n",
       "       [ 89,  85,  67,  78,  72,  88,  91,  60,  63,  56,  75,  88,  98,\n",
       "         98, 100,  94,  91, 104,  50,  72],\n",
       "       [ 66,  69,  59,  98,  78, 101,  97,  60,  54,  73,  64,  71,  96,\n",
       "         53,  74,  66,  96, 104,  65,  57],\n",
       "       [ 64,  63,  65,  75, 103,  70,  71, 100,  96,  79,  94,  87,  72,\n",
       "         77, 104,  62,  62,  76,  62,  57],\n",
       "       [ 73,  89,  93,  62, 100,  88,  77,  98,  55,  84,  83,  93,  76,\n",
       "         55,  59, 102,  75,  77,  93,  51],\n",
       "       [ 68,  80,  82,  76,  70,  80,  89,  50,  72,  84, 102,  53,  56,\n",
       "         62,  89,  88,  69,  97,  98,  56],\n",
       "       [ 63,  86,  73,  72,  52,  78,  92,  81, 103,  59,  91,  74,  95,\n",
       "        104,  79, 102,  62,  68,  92,  61],\n",
       "       [ 91,  86,  98,  66,  80, 101,  92,  70,  85,  91,  67,  52,  71,\n",
       "         79,  86,  95,  96,  66,  77,  58],\n",
       "       [ 78,  52,  85,  63,  91,  86,  86,  90,  68,  83,  88, 101,  96,\n",
       "         90,  75,  89,  98,  87,  52,  84],\n",
       "       [ 78,  64,  61,  92,  76,  90,  71,  66,  78,  87,  91,  95,  90,\n",
       "         92,  61,  72,  56,  82,  64,  86],\n",
       "       [ 73,  61,  85,  82,  96,  77,  99,  88,  50,  72,  83,  56,  86,\n",
       "         68,  77,  78,  87, 102,  88, 100],\n",
       "       [ 80, 100,  96,  57,  71,  66,  89,  79,  61,  64,  90,  80,  58,\n",
       "         90,  98,  80,  73,  52,  78,  50]])"
      ]
     },
     "execution_count": 46,
     "metadata": {},
     "output_type": "execute_result"
    }
   ],
   "source": [
    "arr4 = arr4.reshape(20,20) #reshape convert 1D to 2D\n",
    "arr4"
   ]
  },
  {
   "cell_type": "code",
   "execution_count": 36,
   "metadata": {},
   "outputs": [
    {
     "data": {
      "text/plain": [
       "array([[82, 69, 75],\n",
       "       [63, 65, 74],\n",
       "       [71, 90, 63],\n",
       "       [95, 73, 66],\n",
       "       [96, 50, 79]])"
      ]
     },
     "execution_count": 36,
     "metadata": {},
     "output_type": "execute_result"
    }
   ],
   "source": [
    "arr4[5:10,7:15]"
   ]
  },
  {
   "cell_type": "code",
   "execution_count": 37,
   "metadata": {},
   "outputs": [
    {
     "data": {
      "text/plain": [
       "array([ 82,  73,  74,  78,  70,  82,  80,  91,  74, 101,  83,  94,  78,\n",
       "        89,  84, 104,  82,  91,  72,  89,  98, 104,  92,  70, 104,  98,\n",
       "        72,  87,  99, 100,  83, 103,  70,  82,  75,  71,  89,  82,  75,\n",
       "        99,  70, 102,  93,  74, 103,  86,  87,  71,  90,  77,  99,  99,\n",
       "        97,  90,  95,  73,  78,  92,  95, 102,  96,  79,  85, 103,  79,\n",
       "        83,  70,  98, 104,  82,  78,  81,  78,  80,  95,  85,  82,  70,\n",
       "       100,  91,  94,  74,  99,  92,  70,  94,  80,  77, 101,  76,  93,\n",
       "        72,  85, 103,  97,  96, 101,  84,  86,  86,  82,  74,  87,  80,\n",
       "        88,  97,  89,  99,  73,  82,  92,  74,  84,  80, 102,  89,  85,\n",
       "        78,  72,  88,  91,  75,  88,  98,  98, 100,  94,  91, 104,  72,\n",
       "        98,  78, 101,  97,  73,  71,  96,  74,  96, 104,  75, 103,  70,\n",
       "        71, 100,  96,  79,  94,  87,  72,  77, 104,  76,  73,  89,  93,\n",
       "       100,  88,  77,  98,  84,  83,  93,  76, 102,  75,  77,  93,  80,\n",
       "        82,  76,  70,  80,  89,  72,  84, 102,  89,  88,  97,  98,  86,\n",
       "        73,  72,  78,  92,  81, 103,  91,  74,  95, 104,  79, 102,  92,\n",
       "        91,  86,  98,  80, 101,  92,  70,  85,  91,  71,  79,  86,  95,\n",
       "        96,  77,  78,  85,  91,  86,  86,  90,  83,  88, 101,  96,  90,\n",
       "        75,  89,  98,  87,  84,  78,  92,  76,  90,  71,  78,  87,  91,\n",
       "        95,  90,  92,  72,  82,  86,  73,  85,  82,  96,  77,  99,  88,\n",
       "        72,  83,  86,  77,  78,  87, 102,  88, 100,  80, 100,  96,  71,\n",
       "        89,  79,  90,  80,  90,  98,  80,  73,  78])"
      ]
     },
     "execution_count": 37,
     "metadata": {},
     "output_type": "execute_result"
    }
   ],
   "source": [
    "arr4[arr4>=70] #shows all the numbers that are greater than 50"
   ]
  },
  {
   "cell_type": "code",
   "execution_count": 38,
   "metadata": {},
   "outputs": [
    {
     "data": {
      "text/plain": [
       "31172"
      ]
     },
     "execution_count": 38,
     "metadata": {},
     "output_type": "execute_result"
    }
   ],
   "source": [
    "np.sum(arr4)"
   ]
  },
  {
   "cell_type": "code",
   "execution_count": 39,
   "metadata": {},
   "outputs": [
    {
     "data": {
      "text/plain": [
       "104"
      ]
     },
     "execution_count": 39,
     "metadata": {},
     "output_type": "execute_result"
    }
   ],
   "source": [
    "np.max(arr4)"
   ]
  },
  {
   "cell_type": "code",
   "execution_count": 40,
   "metadata": {},
   "outputs": [
    {
     "data": {
      "text/plain": [
       "50"
      ]
     },
     "execution_count": 40,
     "metadata": {},
     "output_type": "execute_result"
    }
   ],
   "source": [
    "np.min(arr4)"
   ]
  },
  {
   "cell_type": "code",
   "execution_count": 41,
   "metadata": {},
   "outputs": [
    {
     "data": {
      "text/plain": [
       "65.0"
      ]
     },
     "execution_count": 41,
     "metadata": {},
     "output_type": "execute_result"
    }
   ],
   "source": [
    "np.percentile(arr4,25)"
   ]
  },
  {
   "cell_type": "code",
   "execution_count": 42,
   "metadata": {},
   "outputs": [
    {
     "data": {
      "text/plain": [
       "93.0"
      ]
     },
     "execution_count": 42,
     "metadata": {},
     "output_type": "execute_result"
    }
   ],
   "source": [
    "np.percentile(arr4,80)"
   ]
  },
  {
   "cell_type": "code",
   "execution_count": 43,
   "metadata": {},
   "outputs": [
    {
     "data": {
      "text/plain": [
       "96.0"
      ]
     },
     "execution_count": 43,
     "metadata": {},
     "output_type": "execute_result"
    }
   ],
   "source": [
    "np.percentile(arr4,85)"
   ]
  },
  {
   "cell_type": "code",
   "execution_count": 44,
   "metadata": {},
   "outputs": [
    {
     "data": {
      "text/plain": [
       "99.0"
      ]
     },
     "execution_count": 44,
     "metadata": {},
     "output_type": "execute_result"
    }
   ],
   "source": [
    "np.percentile(arr4,90)"
   ]
  },
  {
   "cell_type": "code",
   "execution_count": 45,
   "metadata": {},
   "outputs": [
    {
     "data": {
      "text/plain": [
       "102.0"
      ]
     },
     "execution_count": 45,
     "metadata": {},
     "output_type": "execute_result"
    }
   ],
   "source": [
    "np.percentile(arr4,95)"
   ]
  },
  {
   "cell_type": "markdown",
   "metadata": {},
   "source": [
    "# PANDAS"
   ]
  },
  {
   "cell_type": "code",
   "execution_count": 47,
   "metadata": {},
   "outputs": [
    {
     "name": "stdout",
     "output_type": "stream",
     "text": [
      "['BooleanDtype', 'Categorical', 'CategoricalDtype', 'CategoricalIndex', 'DataFrame', 'DateOffset', 'DatetimeIndex', 'DatetimeTZDtype', 'ExcelFile', 'ExcelWriter', 'Flags', 'Float32Dtype', 'Float64Dtype', 'Float64Index', 'Grouper', 'HDFStore', 'Index', 'IndexSlice', 'Int16Dtype', 'Int32Dtype', 'Int64Dtype', 'Int64Index', 'Int8Dtype', 'Interval', 'IntervalDtype', 'IntervalIndex', 'MultiIndex', 'NA', 'NaT', 'NamedAgg', 'Period', 'PeriodDtype', 'PeriodIndex', 'RangeIndex', 'Series', 'SparseDtype', 'StringDtype', 'Timedelta', 'TimedeltaIndex', 'Timestamp', 'UInt16Dtype', 'UInt32Dtype', 'UInt64Dtype', 'UInt64Index', 'UInt8Dtype', '__all__', '__builtins__', '__cached__', '__deprecated_num_index_names', '__dir__', '__doc__', '__docformat__', '__file__', '__getattr__', '__git_version__', '__loader__', '__name__', '__package__', '__path__', '__spec__', '__version__', '_config', '_is_numpy_dev', '_libs', '_testing', '_typing', '_version', 'api', 'array', 'arrays', 'bdate_range', 'compat', 'concat', 'core', 'crosstab', 'cut', 'date_range', 'describe_option', 'errors', 'eval', 'factorize', 'get_dummies', 'get_option', 'infer_freq', 'interval_range', 'io', 'isna', 'isnull', 'json_normalize', 'lreshape', 'melt', 'merge', 'merge_asof', 'merge_ordered', 'notna', 'notnull', 'offsets', 'option_context', 'options', 'pandas', 'period_range', 'pivot', 'pivot_table', 'plotting', 'qcut', 'read_clipboard', 'read_csv', 'read_excel', 'read_feather', 'read_fwf', 'read_gbq', 'read_hdf', 'read_html', 'read_json', 'read_orc', 'read_parquet', 'read_pickle', 'read_sas', 'read_spss', 'read_sql', 'read_sql_query', 'read_sql_table', 'read_stata', 'read_table', 'read_xml', 'reset_option', 'set_eng_float_format', 'set_option', 'show_versions', 'test', 'testing', 'timedelta_range', 'to_datetime', 'to_numeric', 'to_pickle', 'to_timedelta', 'tseries', 'unique', 'util', 'value_counts', 'wide_to_long']\n"
     ]
    }
   ],
   "source": [
    "import pandas as pd\n",
    "print (dir(pd))"
   ]
  },
  {
   "cell_type": "code",
   "execution_count": 49,
   "metadata": {},
   "outputs": [
    {
     "data": {
      "text/plain": [
       "Apple     400\n",
       "Cherry     50\n",
       "Lemon     205\n",
       "Grape     156\n",
       "dtype: int64"
      ]
     },
     "execution_count": 49,
     "metadata": {},
     "output_type": "execute_result"
    }
   ],
   "source": [
    "fruits = ['Apple','Cherry','Lemon','Grape']\n",
    "values = [400,50,205,156]\n",
    "s1 = pd.Series(data = values,index = fruits)\n",
    "s1"
   ]
  },
  {
   "cell_type": "code",
   "execution_count": 50,
   "metadata": {},
   "outputs": [
    {
     "data": {
      "text/plain": [
       "50"
      ]
     },
     "execution_count": 50,
     "metadata": {},
     "output_type": "execute_result"
    }
   ],
   "source": [
    "s1['Cherry']"
   ]
  },
  {
   "cell_type": "code",
   "execution_count": 51,
   "metadata": {},
   "outputs": [
    {
     "data": {
      "text/plain": [
       "0    400\n",
       "1     50\n",
       "2    205\n",
       "3    156\n",
       "dtype: int64"
      ]
     },
     "execution_count": 51,
     "metadata": {},
     "output_type": "execute_result"
    }
   ],
   "source": [
    "s2 = pd.Series(data = values)\n",
    "s2"
   ]
  },
  {
   "cell_type": "code",
   "execution_count": null,
   "metadata": {},
   "outputs": [],
   "source": []
  }
 ],
 "metadata": {
  "kernelspec": {
   "display_name": "Python 3 (ipykernel)",
   "language": "python",
   "name": "python3"
  },
  "language_info": {
   "codemirror_mode": {
    "name": "ipython",
    "version": 3
   },
   "file_extension": ".py",
   "mimetype": "text/x-python",
   "name": "python",
   "nbconvert_exporter": "python",
   "pygments_lexer": "ipython3",
   "version": "3.9.12"
  },
  "vscode": {
   "interpreter": {
    "hash": "97a318a1c10ea3cad32b5f740e8bef65bce9a717407c951d39899fa160feabd9"
   }
  }
 },
 "nbformat": 4,
 "nbformat_minor": 2
}
