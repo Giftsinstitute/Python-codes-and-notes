{
 "cells": [
  {
   "cell_type": "markdown",
   "id": "df4ea914",
   "metadata": {},
   "source": [
    "# FUNCTIONS"
   ]
  },
  {
   "cell_type": "code",
   "execution_count": 2,
   "id": "1d7efd4b",
   "metadata": {},
   "outputs": [
    {
     "name": "stdout",
     "output_type": "stream",
     "text": [
      "Welcome to python class\n"
     ]
    }
   ],
   "source": [
    "def greet():# A function without a parameter or an agreement\n",
    "    return 'Welcome to python class'\n",
    "print(greet())"
   ]
  },
  {
   "cell_type": "code",
   "execution_count": 3,
   "id": "0d3ae31c",
   "metadata": {},
   "outputs": [
    {
     "data": {
      "text/plain": [
       "'Welcome to python class'"
      ]
     },
     "execution_count": 3,
     "metadata": {},
     "output_type": "execute_result"
    }
   ],
   "source": [
    "greet()"
   ]
  },
  {
   "cell_type": "code",
   "execution_count": 3,
   "id": "95b8d752",
   "metadata": {},
   "outputs": [
    {
     "data": {
      "text/plain": [
       "'Welcome to class Simeon'"
      ]
     },
     "execution_count": 3,
     "metadata": {},
     "output_type": "execute_result"
    }
   ],
   "source": [
    "def greet2(name):\n",
    "    return f'Welcome to class {name}'\n",
    "greet2('Simeon')"
   ]
  },
  {
   "cell_type": "code",
   "execution_count": 6,
   "id": "4e792229",
   "metadata": {},
   "outputs": [
    {
     "data": {
      "text/plain": [
       "'welcome to class Samson, Bola, Emmy, Gift, David'"
      ]
     },
     "execution_count": 6,
     "metadata": {},
     "output_type": "execute_result"
    }
   ],
   "source": [
    "def acknowledge(name1, name2, name3, name4, name5):\n",
    "    return f'welcome to class {name1}, {name2}, {name3}, {name4}, {name5}'\n",
    "acknowledge('Samson','Bola','Emmy','Gift','David')"
   ]
  },
  {
   "cell_type": "code",
   "execution_count": null,
   "id": "b620dc01",
   "metadata": {},
   "outputs": [],
   "source": []
  },
  {
   "cell_type": "code",
   "execution_count": 4,
   "id": "66486374",
   "metadata": {},
   "outputs": [
    {
     "data": {
      "text/plain": [
       "'Welcome to class Ada'"
      ]
     },
     "execution_count": 4,
     "metadata": {},
     "output_type": "execute_result"
    }
   ],
   "source": [
    "greet2('Ada')"
   ]
  },
  {
   "cell_type": "code",
   "execution_count": 5,
   "id": "0544058e",
   "metadata": {},
   "outputs": [
    {
     "name": "stdout",
     "output_type": "stream",
     "text": [
      "NAME:Simeon\n",
      "GENDER:Male\n",
      "AGE:18\n",
      "    \n",
      "congratulations you are eligible to vote\n"
     ]
    }
   ],
   "source": [
    "def vote(name,gender, age =18):\n",
    "    print(f'''NAME:{name}\n",
    "GENDER:{gender}\n",
    "AGE:{age}\n",
    "    ''')\n",
    "    \n",
    "    if age>= 18:\n",
    "        print('congratulations you are eligible to vote')\n",
    "    else:\n",
    "        print('oops sorry you are not eligible to vote')\n",
    "vote('Simeon', 'Male', 18)"
   ]
  },
  {
   "cell_type": "code",
   "execution_count": 8,
   "id": "fd16d5e8",
   "metadata": {},
   "outputs": [],
   "source": [
    "def votingcenter(name,gender,location):\n",
    "    print(f'''NAME:{name})\n",
    "GENDER:{gender}\n",
    "LOCATION:{location}\n",
    "    ''')\n",
    "    \n",
    "    if location >= Kubwa:\n",
    "        print('congratulations your voting center is at the state local government')\n",
    "    else:\n",
    "        print('sorry, you cannot vote else where')"
   ]
  },
  {
   "cell_type": "code",
   "execution_count": 11,
   "id": "cb995683",
   "metadata": {},
   "outputs": [
    {
     "name": "stdout",
     "output_type": "stream",
     "text": [
      "Please provide estimate value700000\n",
      "Please provide deposit value550000\n",
      "Please provide first addons value25000\n",
      "Please provide second addons value35000\n",
      "The total accumulated for saving and addons after the first year is 602500.0\n",
      "The total accumulated for saving and addons after the second year is 667625.0\n",
      "The total accumulated for saving and addons after the third year is 701006.25\n",
      "There is an increase of 1006.25\n"
     ]
    }
   ],
   "source": [
    "def compoundinterest():\n",
    "    estimate = float(input('Please provide estimate value'))\n",
    "    time = 3\n",
    "    principal = float(input('Please provide deposit value'))\n",
    "    r = 5/100\n",
    "    firstyearadd = float(input('Please provide first addons value'))\n",
    "    secondyearadd = float(input('Please provide second addons value'))\n",
    "    \n",
    "    i = (principal * r)\n",
    "    totalfirstyearsaving = i +principal + firstyearadd\n",
    "    print(f'The total accumulated for saving and addons after the first year is {totalfirstyearsaving}')\n",
    "    i2 = (totalfirstyearsaving * r)\n",
    "    totalsecondyearsaving = i2 +totalfirstyearsaving + secondyearadd\n",
    "    print(f'The total accumulated for saving and addons after the second year is {totalsecondyearsaving}')\n",
    "    i3 = (totalsecondyearsaving * r)\n",
    "    totalthirdyearsaving = i3 +totalsecondyearsaving\n",
    "    print(f'The total accumulated for saving and addons after the third year is {totalthirdyearsaving}')\n",
    "    \n",
    "    if totalthirdyearsaving > estimate:\n",
    "        print(f'There is an increase of {totalthirdyearsaving - estimate}')\n",
    "    else:\n",
    "        print('No profit is made')\n",
    "compoundinterest()"
   ]
  },
  {
   "cell_type": "code",
   "execution_count": 17,
   "id": "a0d35bc9",
   "metadata": {},
   "outputs": [
    {
     "name": "stdout",
     "output_type": "stream",
     "text": [
      "please provide your age:24\n",
      "please enter your gender as M for male and F for female:F\n",
      "Please enter your status as M for Married and S for single:S\n",
      "Congratulations you have been posted to Kano\n"
     ]
    }
   ],
   "source": [
    "import random\n",
    "def staffposting():\n",
    "    state = ['Benue','Lagos','Kano','Oyo','Delta']\n",
    "    age = int(input('please provide your age:'))\n",
    "    sex = input('please enter your gender as M for male and F for female:')\n",
    "    maritalstatus = input('Please enter your status as M for Married and S for single:')\n",
    "    if sex == 'F' and age >=18 and age <=40:\n",
    "        print(f'Congratulations you have been posted to {random.choice(state)}')\n",
    "    elif sex == 'M' and age >40 and age <=60:\n",
    "        print('Congratulations you will remain at the head office')\n",
    "    else:\n",
    "        print('ERROR!!!!!!!!!!!!!!!!!!!')\n",
    "staffposting()"
   ]
  },
  {
   "cell_type": "code",
   "execution_count": 19,
   "id": "01766380",
   "metadata": {},
   "outputs": [
    {
     "name": "stdout",
     "output_type": "stream",
     "text": [
      "player one score is 2\n",
      "player two score is 8\n",
      "player one wins\n",
      "player one score is 8\n",
      "player two score is 9\n",
      "player one wins\n",
      "player one score is 9\n",
      "player two score is 11\n",
      "player one wins\n",
      "player one score is 5\n",
      "player two score is 5\n",
      "it is a draw\n",
      "player one score is 6\n",
      "player two score is 9\n",
      "player one wins\n",
      "player one score is 8\n",
      "player two score is 5\n",
      "player one wins\n",
      "player one score is 11\n",
      "player two score is 7\n",
      "player one wins\n",
      "player one score is 9\n",
      "player two score is 9\n",
      "it is a draw\n",
      "player one score is 7\n",
      "player two score is 8\n",
      "player one wins\n",
      "player one score is 8\n",
      "player two score is 7\n",
      "player one wins\n",
      "player two is the overall winner by total point of 29 point\n"
     ]
    }
   ],
   "source": [
    "import random as rn\n",
    "def ludo():\n",
    "    player1score = 0\n",
    "    player2score = 0\n",
    "    counter = 1\n",
    "    while counter <= 10:\n",
    "        dice1 = rn.randint(1,6) + rn.randint(1,6)\n",
    "        dice2 = rn.randint(1,6) + rn.randint(1,6)\n",
    "        if dice1 > dice2:\n",
    "            print(f'player one score is {dice1}')\n",
    "            print(f'player two score is {dice2}')\n",
    "            print(f'player one wins')\n",
    "            player1score += 5\n",
    "        elif dice2 > dice1:\n",
    "            print(f'player one score is {dice1}')\n",
    "            print(f'player two score is {dice2}')\n",
    "            print(f'player one wins')\n",
    "            player2score += 5\n",
    "        else:\n",
    "            print(f'player one score is {dice1}')\n",
    "            print(f'player two score is {dice2}')\n",
    "            print('it is a draw')\n",
    "            player1score += 2\n",
    "            player2score += 2\n",
    "        counter +=1\n",
    "    if player1score > player2score:\n",
    "          print(f'player one is the overall winner by total point of {player1score} point')\n",
    "    elif player2score > player1score:\n",
    "        print(f'player two is the overall winner by total point of {player2score} point')\n",
    "    else:\n",
    "        print('It is a draw')\n",
    "ludo()"
   ]
  },
  {
   "cell_type": "code",
   "execution_count": null,
   "id": "1bbeb982",
   "metadata": {},
   "outputs": [],
   "source": []
  }
 ],
 "metadata": {
  "kernelspec": {
   "display_name": "Python 3 (ipykernel)",
   "language": "python",
   "name": "python3"
  },
  "language_info": {
   "codemirror_mode": {
    "name": "ipython",
    "version": 3
   },
   "file_extension": ".py",
   "mimetype": "text/x-python",
   "name": "python",
   "nbconvert_exporter": "python",
   "pygments_lexer": "ipython3",
   "version": "3.9.12"
  }
 },
 "nbformat": 4,
 "nbformat_minor": 5
}
