{
 "cells": [
  {
   "cell_type": "markdown",
   "id": "2016be4a",
   "metadata": {},
   "source": [
    "# tuple\n",
    "# Tuple is unchangeable\n",
    "# Tuple must be ordered\n",
    "# Tuple is denoted with ()\n",
    "# to access a value from a tuple we used the index location"
   ]
  },
  {
   "cell_type": "code",
   "execution_count": 3,
   "id": "d4691e67",
   "metadata": {},
   "outputs": [
    {
     "name": "stdout",
     "output_type": "stream",
     "text": [
      "<class 'tuple'>\n"
     ]
    }
   ],
   "source": [
    "numbers = (4,10,15,16,25,20,4,30,35,4,45,56,50,52,4,60)\n",
    "print(type(numbers))"
   ]
  },
  {
   "cell_type": "code",
   "execution_count": 4,
   "id": "7926ca51",
   "metadata": {},
   "outputs": [
    {
     "name": "stdout",
     "output_type": "stream",
     "text": [
      "16\n"
     ]
    }
   ],
   "source": [
    "print(len(numbers))\n"
   ]
  },
  {
   "cell_type": "code",
   "execution_count": 5,
   "id": "d7d6855b",
   "metadata": {},
   "outputs": [
    {
     "name": "stdout",
     "output_type": "stream",
     "text": [
      "20\n"
     ]
    }
   ],
   "source": [
    "print(numbers[5])"
   ]
  },
  {
   "cell_type": "code",
   "execution_count": 6,
   "id": "6e7a8c44",
   "metadata": {},
   "outputs": [
    {
     "name": "stdout",
     "output_type": "stream",
     "text": [
      "16\n"
     ]
    }
   ],
   "source": [
    "print(numbers[-13])"
   ]
  },
  {
   "cell_type": "code",
   "execution_count": 7,
   "id": "6970eb64",
   "metadata": {},
   "outputs": [
    {
     "name": "stdout",
     "output_type": "stream",
     "text": [
      "(16, 25, 20, 4, 30, 35)\n"
     ]
    }
   ],
   "source": [
    "print(numbers[3:9])"
   ]
  },
  {
   "cell_type": "code",
   "execution_count": 11,
   "id": "ec30e7e2",
   "metadata": {},
   "outputs": [
    {
     "name": "stdout",
     "output_type": "stream",
     "text": [
      "4\n",
      "15\n",
      "True\n"
     ]
    }
   ],
   "source": [
    "print(numbers.count(4))\n",
    "print(numbers.index(60))\n",
    "print(60 in numbers)"
   ]
  },
  {
   "cell_type": "markdown",
   "id": "2ba81651",
   "metadata": {},
   "source": [
    "# list\n",
    "# list is changeable\n",
    "# list can be ordered or unordered\n",
    "# list is denoted with []\n",
    "# to access a value from a list we used in the index location\n",
    "# the append funtion is used to add a new value to the list"
   ]
  },
  {
   "cell_type": "code",
   "execution_count": 12,
   "id": "310c0c57",
   "metadata": {},
   "outputs": [
    {
     "name": "stdout",
     "output_type": "stream",
     "text": [
      "['Apple', 'cherry', 'Mango', 'Banana', 'Orange', 'Pear']\n"
     ]
    }
   ],
   "source": [
    "fruits = ['Apple','cherry','Mango','Banana','Orange']\n",
    "fruits.append('Pear')# The append function will add new vlue at the end of the existing list\n",
    "print(fruits)"
   ]
  },
  {
   "cell_type": "code",
   "execution_count": 14,
   "id": "41734321",
   "metadata": {},
   "outputs": [
    {
     "name": "stdout",
     "output_type": "stream",
     "text": [
      "['Apple', 'cherry', 'Mango', 'Banana', 'Orange', 'Pear', 'Coconut', 'Apple', 'Rasberry', 'Lemon', 'Sugarcane']\n"
     ]
    }
   ],
   "source": [
    "second_fruit = ['Coconut','Apple','Rasberry','Lemon','Sugarcane']\n",
    "fruits.extend(second_fruit)# The extend function will add the value of another list or tuple to the specified list\n",
    "print(fruits)"
   ]
  },
  {
   "cell_type": "code",
   "execution_count": 15,
   "id": "86663b52",
   "metadata": {},
   "outputs": [
    {
     "name": "stdout",
     "output_type": "stream",
     "text": [
      "['Apple', 'cherry', 'Mango', 'Banana', 'Orange', 'Grape', 'Pear', 'Coconut', 'Apple', 'Rasberry', 'Lemon', 'Sugarcane']\n"
     ]
    }
   ],
   "source": [
    "fruits.insert(5, 'Grape')# The insert function will add the new value at the specified location\n",
    "print(fruits)"
   ]
  },
  {
   "cell_type": "code",
   "execution_count": 16,
   "id": "d12f2af4",
   "metadata": {},
   "outputs": [
    {
     "name": "stdout",
     "output_type": "stream",
     "text": [
      "['Apple', 'Apple', 'Banana', 'Coconut', 'Grape', 'Lemon', 'Mango', 'Orange', 'Pear', 'Rasberry', 'Sugarcane', 'cherry']\n"
     ]
    }
   ],
   "source": [
    "fruits.sort() # The sort function will arrange the values in ascending order\n",
    "print(fruits)"
   ]
  },
  {
   "cell_type": "code",
   "execution_count": 26,
   "id": "bf8fff8d",
   "metadata": {},
   "outputs": [
    {
     "name": "stdout",
     "output_type": "stream",
     "text": [
      "['cherry', 'Sugarcane', 'Rasberry', 'Coconut', 'Banana', 'Apple']\n"
     ]
    }
   ],
   "source": [
    "fruits.pop(5)# The pop function will drop the value at the specified location\n",
    "print(fruits)"
   ]
  },
  {
   "cell_type": "code",
   "execution_count": 21,
   "id": "c8cea667",
   "metadata": {},
   "outputs": [
    {
     "name": "stdout",
     "output_type": "stream",
     "text": [
      "['Apple', 'Apple', 'Banana', 'Coconut', 'Rasberry', 'Sugarcane', 'cherry']\n"
     ]
    }
   ],
   "source": [
    "fruits.remove('Grape')# The remove function will drop the specified value \n",
    "print(fruits)"
   ]
  },
  {
   "cell_type": "code",
   "execution_count": 22,
   "id": "fd09fd02",
   "metadata": {},
   "outputs": [
    {
     "name": "stdout",
     "output_type": "stream",
     "text": [
      "['cherry', 'Sugarcane', 'Rasberry', 'Coconut', 'Banana', 'Apple', 'Apple']\n"
     ]
    }
   ],
   "source": [
    "fruits.reverse()# The reverse function will arrange your values in descending order\n",
    "print(fruits)"
   ]
  },
  {
   "cell_type": "code",
   "execution_count": 24,
   "id": "29174334",
   "metadata": {},
   "outputs": [],
   "source": [
    "fruits2 = fruits.copy()# The copy function will make a duplicate of your list"
   ]
  },
  {
   "cell_type": "code",
   "execution_count": 25,
   "id": "1829c24b",
   "metadata": {},
   "outputs": [
    {
     "name": "stdout",
     "output_type": "stream",
     "text": [
      "[]\n"
     ]
    }
   ],
   "source": [
    "fruits2.clear()# The clear function will remove all values from thr list\n",
    "print(fruits2)"
   ]
  },
  {
   "cell_type": "code",
   "execution_count": 27,
   "id": "1c24db28",
   "metadata": {},
   "outputs": [
    {
     "ename": "NameError",
     "evalue": "name 'fruits2' is not defined",
     "output_type": "error",
     "traceback": [
      "\u001b[1;31m---------------------------------------------------------------------------\u001b[0m",
      "\u001b[1;31mNameError\u001b[0m                                 Traceback (most recent call last)",
      "Input \u001b[1;32mIn [27]\u001b[0m, in \u001b[0;36m<cell line: 2>\u001b[1;34m()\u001b[0m\n\u001b[0;32m      1\u001b[0m \u001b[38;5;28;01mdel\u001b[39;00m(fruits2)\u001b[38;5;66;03m# del is used to delete everything and anything.\u001b[39;00m\n\u001b[1;32m----> 2\u001b[0m \u001b[38;5;28mprint\u001b[39m(\u001b[43mfruits2\u001b[49m)\n",
      "\u001b[1;31mNameError\u001b[0m: name 'fruits2' is not defined"
     ]
    }
   ],
   "source": [
    "del(fruits2)# del is used to delete everything and anything.\n",
    "print(fruits2)"
   ]
  },
  {
   "cell_type": "markdown",
   "id": "27df3c95",
   "metadata": {},
   "source": [
    "# Dictionary"
   ]
  },
  {
   "cell_type": "code",
   "execution_count": 33,
   "id": "3358567a",
   "metadata": {},
   "outputs": [
    {
     "data": {
      "text/plain": [
       "'Male'"
      ]
     },
     "execution_count": 33,
     "metadata": {},
     "output_type": "execute_result"
    }
   ],
   "source": [
    "details = {\n",
    "    'Name' : 'Simeon',\n",
    "    'Age' :'26',\n",
    "    'Gender':'Male',\n",
    "    'weight':'65',\n",
    "    'Height': '1.75'\n",
    "}\n",
    "details['Gender']"
   ]
  },
  {
   "cell_type": "code",
   "execution_count": 34,
   "id": "4e6d0a12",
   "metadata": {},
   "outputs": [
    {
     "data": {
      "text/plain": [
       "dict_keys(['Name', 'Age', 'Gender', 'weight', 'Height'])"
      ]
     },
     "execution_count": 34,
     "metadata": {},
     "output_type": "execute_result"
    }
   ],
   "source": [
    "details.keys()# it present all the key in the dictionary"
   ]
  },
  {
   "cell_type": "code",
   "execution_count": 36,
   "id": "c1333056",
   "metadata": {},
   "outputs": [
    {
     "data": {
      "text/plain": [
       "dict_values(['Simeon', '26', 'Male', '65', '1.75'])"
      ]
     },
     "execution_count": 36,
     "metadata": {},
     "output_type": "execute_result"
    }
   ],
   "source": [
    "details.values()# It returns all the values in the dictionary"
   ]
  },
  {
   "cell_type": "code",
   "execution_count": 37,
   "id": "2c8634f1",
   "metadata": {},
   "outputs": [
    {
     "data": {
      "text/plain": [
       "dict_items([('Name', 'Simeon'), ('Age', '26'), ('Gender', 'Male'), ('weight', '65'), ('Height', '1.75')])"
      ]
     },
     "execution_count": 37,
     "metadata": {},
     "output_type": "execute_result"
    }
   ],
   "source": [
    "details.items()# It returns both the items and values in the dictionary"
   ]
  },
  {
   "cell_type": "code",
   "execution_count": 38,
   "id": "b0f84513",
   "metadata": {},
   "outputs": [
    {
     "data": {
      "text/plain": [
       "{'Name': 'Simeon',\n",
       " 'Age': '26',\n",
       " 'Gender': 'Male',\n",
       " 'weight': '65',\n",
       " 'Height': 1.8}"
      ]
     },
     "execution_count": 38,
     "metadata": {},
     "output_type": "execute_result"
    }
   ],
   "source": [
    "r = {'Height':1.80}\n",
    "details.update(r)\n",
    "details"
   ]
  },
  {
   "cell_type": "code",
   "execution_count": 42,
   "id": "cd836dac",
   "metadata": {},
   "outputs": [
    {
     "data": {
      "text/plain": [
       "'Ojo'"
      ]
     },
     "execution_count": 42,
     "metadata": {},
     "output_type": "execute_result"
    }
   ],
   "source": [
    "records1 = {\n",
    "    'Names':['Ade','Ojo','Hope'],\n",
    "    'Age':[15,14,16]\n",
    "}\n",
    "records1['Names'][1]"
   ]
  },
  {
   "cell_type": "code",
   "execution_count": 43,
   "id": "13a921ac",
   "metadata": {},
   "outputs": [
    {
     "data": {
      "text/plain": [
       "'Ojo'"
      ]
     },
     "execution_count": 43,
     "metadata": {},
     "output_type": "execute_result"
    }
   ],
   "source": [
    "records1 = {\n",
    "    'Names':{'Name1':'Ade','Name2':'Ojo','Name3':'Hope'},\n",
    "    'Age':{'Age1':15,'Age2':14,'Age3':16}\n",
    "}\n",
    "records1['Names']['Name2']"
   ]
  },
  {
   "cell_type": "code",
   "execution_count": null,
   "id": "b3295da2",
   "metadata": {},
   "outputs": [],
   "source": []
  }
 ],
 "metadata": {
  "kernelspec": {
   "display_name": "Python 3 (ipykernel)",
   "language": "python",
   "name": "python3"
  },
  "language_info": {
   "codemirror_mode": {
    "name": "ipython",
    "version": 3
   },
   "file_extension": ".py",
   "mimetype": "text/x-python",
   "name": "python",
   "nbconvert_exporter": "python",
   "pygments_lexer": "ipython3",
   "version": "3.9.12"
  }
 },
 "nbformat": 4,
 "nbformat_minor": 5
}
