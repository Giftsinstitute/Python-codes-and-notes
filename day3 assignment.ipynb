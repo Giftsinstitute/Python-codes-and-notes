{
 "cells": [
  {
   "cell_type": "markdown",
   "id": "b3ce1757",
   "metadata": {},
   "source": [
    "# Tuple"
   ]
  },
  {
   "cell_type": "markdown",
   "id": "1ab8668c",
   "metadata": {},
   "source": [
    "# write a program to reverse the given tuple (46,53,45,48,55,45,49,51,51,58,50,55,53,57,50,46,55,55,47,57,55)"
   ]
  },
  {
   "cell_type": "code",
   "execution_count": 30,
   "id": "cc9d1e34",
   "metadata": {},
   "outputs": [
    {
     "ename": "AttributeError",
     "evalue": "'tuple' object has no attribute 'reverse'",
     "output_type": "error",
     "traceback": [
      "\u001b[1;31m---------------------------------------------------------------------------\u001b[0m",
      "\u001b[1;31mAttributeError\u001b[0m                            Traceback (most recent call last)",
      "Input \u001b[1;32mIn [30]\u001b[0m, in \u001b[0;36m<cell line: 2>\u001b[1;34m()\u001b[0m\n\u001b[0;32m      1\u001b[0m numbers \u001b[38;5;241m=\u001b[39m (\u001b[38;5;241m46\u001b[39m,\u001b[38;5;241m53\u001b[39m,\u001b[38;5;241m45\u001b[39m,\u001b[38;5;241m48\u001b[39m,\u001b[38;5;241m55\u001b[39m,\u001b[38;5;241m45\u001b[39m,\u001b[38;5;241m49\u001b[39m,\u001b[38;5;241m51\u001b[39m,\u001b[38;5;241m51\u001b[39m,\u001b[38;5;241m58\u001b[39m,\u001b[38;5;241m50\u001b[39m,\u001b[38;5;241m55\u001b[39m,\u001b[38;5;241m53\u001b[39m,\u001b[38;5;241m57\u001b[39m,\u001b[38;5;241m50\u001b[39m,\u001b[38;5;241m46\u001b[39m,\u001b[38;5;241m55\u001b[39m,\u001b[38;5;241m55\u001b[39m,\u001b[38;5;241m47\u001b[39m,\u001b[38;5;241m57\u001b[39m,\u001b[38;5;241m55\u001b[39m)\n\u001b[1;32m----> 2\u001b[0m \u001b[43mnumbers\u001b[49m\u001b[38;5;241;43m.\u001b[39;49m\u001b[43mreverse\u001b[49m()\n\u001b[0;32m      3\u001b[0m \u001b[38;5;28mprint\u001b[39m(numbers)\n",
      "\u001b[1;31mAttributeError\u001b[0m: 'tuple' object has no attribute 'reverse'"
     ]
    }
   ],
   "source": [
    "numbers = (46,53,45,48,55,45,49,51,51,58,50,55,53,57,50,46,55,55,47,57,55)\n",
    "numbers.reverse()\n",
    "print(numbers)"
   ]
  },
  {
   "cell_type": "markdown",
   "id": "094ff2af",
   "metadata": {},
   "source": [
    "# write a program to access value 58 from the  above tuple"
   ]
  },
  {
   "cell_type": "code",
   "execution_count": 3,
   "id": "cdaf9aa0",
   "metadata": {},
   "outputs": [
    {
     "name": "stdout",
     "output_type": "stream",
     "text": [
      "58\n"
     ]
    }
   ],
   "source": [
    "numbers = (46,53,45,48,55,45,49,51,51,58,50,55,53,57,50,46,55,55,47,57,55)\n",
    "print(numbers[9])"
   ]
  },
  {
   "cell_type": "markdown",
   "id": "d84bfff7",
   "metadata": {},
   "source": [
    "# write a program to Counts the number of occurences of item 55 from the above tuple"
   ]
  },
  {
   "cell_type": "code",
   "execution_count": 4,
   "id": "dc6672bf",
   "metadata": {},
   "outputs": [
    {
     "name": "stdout",
     "output_type": "stream",
     "text": [
      "5\n"
     ]
    }
   ],
   "source": [
    "print(numbers.count(55))"
   ]
  },
  {
   "cell_type": "markdown",
   "id": "d0e208a6",
   "metadata": {},
   "source": [
    "# write a program to return values 49 and 57 from the above tuple"
   ]
  },
  {
   "cell_type": "code",
   "execution_count": 5,
   "id": "fd0efae6",
   "metadata": {},
   "outputs": [
    {
     "name": "stdout",
     "output_type": "stream",
     "text": [
      "(49, 51, 51, 58, 50, 55, 53, 57)\n"
     ]
    }
   ],
   "source": [
    "print(numbers[6:14])"
   ]
  },
  {
   "cell_type": "markdown",
   "id": "e2fd4111",
   "metadata": {},
   "source": [
    "# LIST"
   ]
  },
  {
   "cell_type": "markdown",
   "id": "2f0a8e4d",
   "metadata": {},
   "source": [
    "# Write a program to reverse the given list [46,53,45,48,55,45,49,51,51,58,50,55,53,57,50,46,55,47,57,55]"
   ]
  },
  {
   "cell_type": "code",
   "execution_count": 1,
   "id": "4e4f625a",
   "metadata": {
    "scrolled": false
   },
   "outputs": [
    {
     "name": "stdout",
     "output_type": "stream",
     "text": [
      "[55, 57, 47, 55, 55, 46, 50, 57, 53, 55, 50, 58, 51, 51, 49, 45, 55, 48, 45, 53, 46]\n"
     ]
    }
   ],
   "source": [
    "numbers = [46,53,45,48,55,45,49,51,51,58,50,55,53,57,50,46,55,55,47,57,55]\n",
    "numbers.reverse()\n",
    "print(numbers)"
   ]
  },
  {
   "cell_type": "markdown",
   "id": "ad9aa748",
   "metadata": {},
   "source": [
    "# write a program to access value 58 from the above list"
   ]
  },
  {
   "cell_type": "code",
   "execution_count": 31,
   "id": "28631599",
   "metadata": {},
   "outputs": [
    {
     "name": "stdout",
     "output_type": "stream",
     "text": [
      "58\n"
     ]
    }
   ],
   "source": [
    "print(numbers[9])"
   ]
  },
  {
   "cell_type": "markdown",
   "id": "2a760ea6",
   "metadata": {},
   "source": [
    "# write a program to counts the number of occurrencesof items 51 from the above list"
   ]
  },
  {
   "cell_type": "code",
   "execution_count": 27,
   "id": "54a632fe",
   "metadata": {},
   "outputs": [
    {
     "name": "stdout",
     "output_type": "stream",
     "text": [
      "2\n"
     ]
    }
   ],
   "source": [
    "print(numbers.count(51))"
   ]
  },
  {
   "cell_type": "markdown",
   "id": "a5b688ba",
   "metadata": {},
   "source": [
    "# write a program to add item 69 after 49 in the following python list"
   ]
  },
  {
   "cell_type": "code",
   "execution_count": 28,
   "id": "36563aee",
   "metadata": {},
   "outputs": [
    {
     "name": "stdout",
     "output_type": "stream",
     "text": [
      "[46, 53, 45, 48, 55, 45, 49, 51, 51, 58, 50, 55, 53, 57, 50, 46, 55, 55, 47, 57, 55, '49']\n"
     ]
    }
   ],
   "source": [
    "numbers.insert(69, '49')\n",
    "print(numbers)"
   ]
  },
  {
   "cell_type": "markdown",
   "id": "b2100b51",
   "metadata": {},
   "source": [
    "# wrrite a program to extend [89,85,36,95,45,78]to the above list"
   ]
  },
  {
   "cell_type": "code",
   "execution_count": 29,
   "id": "a4e5871f",
   "metadata": {},
   "outputs": [
    {
     "name": "stdout",
     "output_type": "stream",
     "text": [
      "[46, 53, 45, 48, 55, 45, 49, 51, 51, 58, 50, 55, 53, 57, 50, 46, 55, 55, 47, 57, 55, '49', '89', '85', '36', '95', '45', '78']\n"
     ]
    }
   ],
   "source": [
    "second_number = ['89','85','36','95','45','78']\n",
    "numbers.extend(second_number)\n",
    "print(numbers)"
   ]
  },
  {
   "cell_type": "markdown",
   "id": "63265966",
   "metadata": {},
   "source": [
    "# DICTIONARY"
   ]
  },
  {
   "cell_type": "markdown",
   "id": "c9e106cc",
   "metadata": {},
   "source": [
    "#  Write a python program to create a new dictionary having 10 football club nammes as the key holding the following values(location,managers name, club captain, networth, clubformation)"
   ]
  },
  {
   "cell_type": "code",
   "execution_count": 8,
   "id": "dbd036e5",
   "metadata": {},
   "outputs": [
    {
     "data": {
      "text/plain": [
       "'Arsenal'"
      ]
     },
     "execution_count": 8,
     "metadata": {},
     "output_type": "execute_result"
    }
   ],
   "source": [
    "details = {\n",
    "    'Club' : 'Arsenal',\n",
    "    'Networth':'$10.7b',\n",
    "    'Managers':'Milel Arteta',\n",
    "    'Clubformation':'1886',\n",
    "    'Location':'London'\n",
    "}"
   ]
  },
  {
   "cell_type": "code",
   "execution_count": 1,
   "id": "45c51b72",
   "metadata": {},
   "outputs": [],
   "source": [
    "details = {\n",
    "    'Club':'Chelsea',\n",
    "    'Networth':'$13.5b',\n",
    "    'Managers':'Thomas Tuchel',\n",
    "    'Clubformation':'10 march 1905',\n",
    "    'Location':'Fulham'\n",
    "}"
   ]
  },
  {
   "cell_type": "code",
   "execution_count": 14,
   "id": "551701d2",
   "metadata": {},
   "outputs": [],
   "source": [
    "details = {\n",
    "    'Club':'Astonvilla',\n",
    "    'Networth':'$12.7b',\n",
    "    'Managers':'Steven Gerrard',\n",
    "    'Clubformation':'march 1874',\n",
    "    'Location':'England'\n",
    "}"
   ]
  },
  {
   "cell_type": "code",
   "execution_count": 15,
   "id": "22574083",
   "metadata": {},
   "outputs": [],
   "source": [
    "details = {\n",
    "    'Club':'Bournemouth',\n",
    "    'Networth':'$100m',\n",
    "    'Clubformation':'1899',\n",
    "    'Location':'England'\n",
    "}"
   ]
  },
  {
   "cell_type": "code",
   "execution_count": 17,
   "id": "b4b500c0",
   "metadata": {},
   "outputs": [],
   "source": [
    "details = {\n",
    "    'Club':'Brentford',\n",
    "    'Networth':'$300m',\n",
    "    'Manager':'Thomas Frank',\n",
    "    'Clubformation':'10 october 1889',\n",
    "    'Location':'Westlondon England'\n",
    "}"
   ]
  },
  {
   "cell_type": "code",
   "execution_count": 18,
   "id": "f2b8abb4",
   "metadata": {},
   "outputs": [],
   "source": [
    "details = {\n",
    "    'Club':'Everton',\n",
    "    'Networth':'2.9b',\n",
    "    'Manager':'Frank Lampard',\n",
    "    'Clubformation':'1878',\n",
    "    'Location':'Liverpool'\n",
    "}"
   ]
  },
  {
   "cell_type": "code",
   "execution_count": 22,
   "id": "304787f0",
   "metadata": {},
   "outputs": [],
   "source": [
    "details = {\n",
    "    'Club':'Liverpool',\n",
    "    'Networth':'$3.6b',\n",
    "    'Manager':'Jurgen Klopp',\n",
    "    'Clubformation':'3 june 1892',\n",
    "    'Location':'England'\n",
    "}"
   ]
  },
  {
   "cell_type": "code",
   "execution_count": 23,
   "id": "b9c0a99f",
   "metadata": {},
   "outputs": [],
   "source": [
    "details = {\n",
    "    'club':'Manchestercity',\n",
    "    'Networth':'$22b',\n",
    "    'Manager':'Pep Guardiola',\n",
    "    'Clubformation':'1880',\n",
    "    'Location':'Manchester'\n",
    "}"
   ]
  },
  {
   "cell_type": "code",
   "execution_count": 24,
   "id": "a4ed2310",
   "metadata": {},
   "outputs": [],
   "source": [
    "details = {\n",
    "    'Club':'Manchester united',\n",
    "    'Networth':'$4.7b',\n",
    "    'Manager':'Erik ten Hang',\n",
    "    'Clubformation':'1878',\n",
    "    'Location':'Old Tafford'\n",
    "}"
   ]
  },
  {
   "cell_type": "code",
   "execution_count": null,
   "id": "0ee16878",
   "metadata": {},
   "outputs": [],
   "source": [
    "details ={\n",
    "    'Club':'Tottenham',\n",
    "    'Networth':'$5.8b',\n",
    "    'Manager':'Antonio Conte',\n",
    "    'Clubformation':'5 september 1882',\n",
    "    'Location':'Tottenham London'\n",
    "}"
   ]
  }
 ],
 "metadata": {
  "kernelspec": {
   "display_name": "Python 3 (ipykernel)",
   "language": "python",
   "name": "python3"
  },
  "language_info": {
   "codemirror_mode": {
    "name": "ipython",
    "version": 3
   },
   "file_extension": ".py",
   "mimetype": "text/x-python",
   "name": "python",
   "nbconvert_exporter": "python",
   "pygments_lexer": "ipython3",
   "version": "3.9.12"
  }
 },
 "nbformat": 4,
 "nbformat_minor": 5
}
