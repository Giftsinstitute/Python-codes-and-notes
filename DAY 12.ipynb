{
 "cells": [
  {
   "cell_type": "code",
   "execution_count": 1,
   "id": "a46be162",
   "metadata": {},
   "outputs": [],
   "source": [
    "import pymysql"
   ]
  },
  {
   "cell_type": "code",
   "execution_count": 3,
   "id": "a70f1d81",
   "metadata": {},
   "outputs": [],
   "source": [
    "mydb = pymysql.connect(\n",
    "    host = 'localhost',\n",
    "    user = 'root',\n",
    "    password = 'opeyemigift2'\n",
    ")\n",
    "mycursor = mydb.cursor()"
   ]
  },
  {
   "cell_type": "code",
   "execution_count": 4,
   "id": "d4d4ff5b",
   "metadata": {},
   "outputs": [
    {
     "data": {
      "text/plain": [
       "1"
      ]
     },
     "execution_count": 4,
     "metadata": {},
     "output_type": "execute_result"
    }
   ],
   "source": [
    "mycursor.execute('create database footballmanagementsystem')"
   ]
  },
  {
   "cell_type": "code",
   "execution_count": 7,
   "id": "d57f9581",
   "metadata": {},
   "outputs": [
    {
     "name": "stdout",
     "output_type": "stream",
     "text": [
      "('footballmanagementsystem',)\n",
      "('information_schema',)\n",
      "('mysql',)\n",
      "('performance_schema',)\n",
      "('sakila',)\n",
      "('sys',)\n",
      "('world',)\n"
     ]
    }
   ],
   "source": [
    "mycursor.execute('show databases')\n",
    "for x in mycursor:\n",
    "    print(x)"
   ]
  },
  {
   "cell_type": "code",
   "execution_count": 8,
   "id": "03292363",
   "metadata": {},
   "outputs": [],
   "source": [
    "mydb = pymysql.connect(\n",
    "    host = 'localhost',\n",
    "    user = 'root',\n",
    "    password = 'opeyemigift2',\n",
    "    database = 'footballmanagementsystem'\n",
    ")\n",
    "mycursor = mydb.cursor()"
   ]
  },
  {
   "cell_type": "code",
   "execution_count": 12,
   "id": "546e3409",
   "metadata": {},
   "outputs": [
    {
     "data": {
      "text/plain": [
       "0"
      ]
     },
     "execution_count": 12,
     "metadata": {},
     "output_type": "execute_result"
    }
   ],
   "source": [
    "mycursor.execute('create table EPI(PositionID int not null primary key,Team varchar(255) not null,Win int not null,Draw int not null, Lost int not null, GoalFor int not null,GoalAgainst int not null)')"
   ]
  },
  {
   "cell_type": "code",
   "execution_count": 13,
   "id": "b9984941",
   "metadata": {},
   "outputs": [
    {
     "data": {
      "text/plain": [
       "0"
      ]
     },
     "execution_count": 13,
     "metadata": {},
     "output_type": "execute_result"
    }
   ],
   "source": [
    "mycursor.execute('alter table epi add column Point int not null')\n",
    "mycursor.execute('alter table epi add column GoalDifference int not null after GoalAgainst')\n"
   ]
  },
  {
   "cell_type": "code",
   "execution_count": 16,
   "id": "f2387048",
   "metadata": {},
   "outputs": [
    {
     "data": {
      "text/plain": [
       "0"
      ]
     },
     "execution_count": 16,
     "metadata": {},
     "output_type": "execute_result"
    }
   ],
   "source": [
    "mycursor.execute('alter table epi modify PositionID int not null auto_increment')"
   ]
  },
  {
   "cell_type": "code",
   "execution_count": 17,
   "id": "f1d8bfbc",
   "metadata": {},
   "outputs": [
    {
     "data": {
      "text/plain": [
       "0"
      ]
     },
     "execution_count": 17,
     "metadata": {},
     "output_type": "execute_result"
    }
   ],
   "source": [
    "mycursor.execute('alter table epi change PositionID PositionalID int not null auto_increment')"
   ]
  },
  {
   "cell_type": "code",
   "execution_count": 18,
   "id": "ac9d39a5",
   "metadata": {},
   "outputs": [],
   "source": [
    "#mycursor.execute(alter table tablename drop column columnname)- to drop a column"
   ]
  },
  {
   "cell_type": "code",
   "execution_count": 19,
   "id": "aaa6e1f1",
   "metadata": {},
   "outputs": [
    {
     "data": {
      "text/plain": [
       "0"
      ]
     },
     "execution_count": 19,
     "metadata": {},
     "output_type": "execute_result"
    }
   ],
   "source": [
    "mycursor.execute('alter table epi rename to English_Premier_League')"
   ]
  },
  {
   "cell_type": "code",
   "execution_count": 20,
   "id": "a5c15156",
   "metadata": {},
   "outputs": [
    {
     "name": "stdout",
     "output_type": "stream",
     "text": [
      "('english_premier_league',)\n",
      "('epl',)\n"
     ]
    }
   ],
   "source": [
    "mycursor.execute('show tables')\n",
    "for x in mycursor:\n",
    "    print(x)"
   ]
  },
  {
   "cell_type": "code",
   "execution_count": 21,
   "id": "d1d43541",
   "metadata": {},
   "outputs": [
    {
     "name": "stdout",
     "output_type": "stream",
     "text": [
      "('PositionalID', 'int', 'NO', 'PRI', None, 'auto_increment')\n",
      "('Team', 'varchar(255)', 'NO', '', None, '')\n",
      "('Win', 'int', 'NO', '', None, '')\n",
      "('Draw', 'int', 'NO', '', None, '')\n",
      "('Lost', 'int', 'NO', '', None, '')\n",
      "('GoalFor', 'int', 'NO', '', None, '')\n",
      "('GoalAgainst', 'int', 'NO', '', None, '')\n",
      "('GoalDifference', 'int', 'NO', '', None, '')\n",
      "('Point', 'int', 'NO', '', None, '')\n"
     ]
    }
   ],
   "source": [
    "mycursor.execute('show columns from English_Premier_League')\n",
    "for x in mycursor:\n",
    "    print(x)"
   ]
  },
  {
   "cell_type": "code",
   "execution_count": null,
   "id": "a60c909a",
   "metadata": {},
   "outputs": [],
   "source": []
  }
 ],
 "metadata": {
  "kernelspec": {
   "display_name": "Python 3 (ipykernel)",
   "language": "python",
   "name": "python3"
  },
  "language_info": {
   "codemirror_mode": {
    "name": "ipython",
    "version": 3
   },
   "file_extension": ".py",
   "mimetype": "text/x-python",
   "name": "python",
   "nbconvert_exporter": "python",
   "pygments_lexer": "ipython3",
   "version": "3.9.12"
  }
 },
 "nbformat": 4,
 "nbformat_minor": 5
}
