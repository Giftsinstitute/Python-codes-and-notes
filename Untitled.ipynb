{
 "cells": [
  {
   "cell_type": "code",
   "execution_count": 1,
   "id": "3d2c78c0",
   "metadata": {},
   "outputs": [
    {
     "name": "stdout",
     "output_type": "stream",
     "text": [
      "Adam's age is: 19\n",
      "John's age is: 37\n"
     ]
    }
   ],
   "source": [
    "from datetime import date\n",
    "\n",
    "# random Person\n",
    "class Person:\n",
    "    def __init__(self, name, age):\n",
    "        self.name = name\n",
    "        self.age = age\n",
    "\n",
    "    @classmethod\n",
    "    def fromBirthYear(cls, name, birthYear):\n",
    "        return cls(name, date.today().year - birthYear)\n",
    "\n",
    "    def display(self):\n",
    "        print(self.name + \"'s age is: \" + str(self.age))\n",
    "\n",
    "person = Person('Adam', 19)\n",
    "person.display()\n",
    "\n",
    "person1 = Person.fromBirthYear('John',  1985)\n",
    "person1.display()"
   ]
  },
  {
   "cell_type": "code",
   "execution_count": 2,
   "id": "9607b631",
   "metadata": {},
   "outputs": [
    {
     "name": "stdout",
     "output_type": "stream",
     "text": [
      "('BMW', 'X5', 2018, 'Black')\n"
     ]
    }
   ],
   "source": [
    "class Car():\n",
    "    \n",
    "    def __init__(self,make,model,year,color):\n",
    "        self.make = make\n",
    "        self.model = model\n",
    "        self.year = year\n",
    "        self.color = color\n",
    "        \n",
    "    def outputvalues(self):\n",
    "        #returns all parameter values as a tuple\n",
    "        vals = (self.make, self.model, self.year, self.color)\n",
    "        return vals\n",
    "        \n",
    "mycar = Car(\"BMW\",\"X5\",2018,\"Black\")\n",
    "print(mycar.outputvalues())"
   ]
  },
  {
   "cell_type": "code",
   "execution_count": 12,
   "id": "14f6bf29",
   "metadata": {},
   "outputs": [
    {
     "ename": "NameError",
     "evalue": "name 'Character' is not defined",
     "output_type": "error",
     "traceback": [
      "\u001b[1;31m---------------------------------------------------------------------------\u001b[0m",
      "\u001b[1;31mNameError\u001b[0m                                 Traceback (most recent call last)",
      "Input \u001b[1;32mIn [12]\u001b[0m, in \u001b[0;36m<cell line: 14>\u001b[1;34m()\u001b[0m\n\u001b[0;32m     12\u001b[0m         \u001b[38;5;28;01mreturn\u001b[39;00m vals\n\u001b[0;32m     13\u001b[0m Charater \u001b[38;5;241m=\u001b[39m MarvelCharacter(\u001b[38;5;124m\"\u001b[39m\u001b[38;5;124mjohnson\u001b[39m\u001b[38;5;124m\"\u001b[39m,\u001b[38;5;124m\"\u001b[39m\u001b[38;5;124mnigeria\u001b[39m\u001b[38;5;124m\"\u001b[39m,\u001b[38;5;124m\"\u001b[39m\u001b[38;5;124mmale\u001b[39m\u001b[38;5;124m\"\u001b[39m,\u001b[38;5;124m\"\u001b[39m\u001b[38;5;124m65\u001b[39m\u001b[38;5;124m\"\u001b[39m,\u001b[38;5;124m\"\u001b[39m\u001b[38;5;124m1.52\u001b[39m\u001b[38;5;124m\"\u001b[39m,\u001b[38;5;124m\"\u001b[39m\u001b[38;5;124m65\u001b[39m\u001b[38;5;124m\"\u001b[39m)\n\u001b[1;32m---> 14\u001b[0m \u001b[38;5;28mprint\u001b[39m(\u001b[43mCharacter\u001b[49m\u001b[38;5;241m.\u001b[39moutputvalues())\n",
      "\u001b[1;31mNameError\u001b[0m: name 'Character' is not defined"
     ]
    }
   ],
   "source": [
    "class MarvelCharacter():\n",
    "    def __init__(self,Name,Country,Gender,Age,Weight,Height):\n",
    "        self.Name = Name\n",
    "        self.Country = Country\n",
    "        self.Gender = Gender\n",
    "        self.Age = Age\n",
    "        self.Weight = Weight\n",
    "        self.Height = Height\n",
    "    def outputvalues(self):\n",
    "        #returns all parameter values as a tuple\n",
    "        vals = (self,Name,Country,Gender,Age,Weight)\n",
    "        return vals\n",
    "Charater = MarvelCharacter(\"johnson\",\"nigeria\",\"male\",\"65\",\"1.52\",\"65\")\n",
    "print(Character.outputvalues())"
   ]
  },
  {
   "cell_type": "code",
   "execution_count": 18,
   "id": "b27fe9bc",
   "metadata": {},
   "outputs": [],
   "source": [
    "class bikesimulation:\n",
    "    def __init__(self,Brand,Model,Color,Year,Speed):\n",
    "        self.Brand = Brand\n",
    "        self.Model = Model\n",
    "        self.Color = Color\n",
    "        self.Year = Year\n",
    "        self.Speed = Speed\n",
    "    def start(self):\n",
    "        print(f'{self.Brand} {self.Model} has started !!!!!!!!!!!!!!!!!')\n",
    "    def gear(self,ch):\n",
    "        if ch == 1:\n",
    "            print('Gear placed on 1')\n",
    "        elif ch == 2:\n",
    "            print('Gear placed on 2')\n",
    "        elif ch == 3:\n",
    "            print('Gear placed on 3')\n",
    "        elif ch == 4:\n",
    "            print('Gear placed on 4')\n",
    "        elif ch == 5:\n",
    "            print('Gear placed on 5')\n",
    "        elif ch == 6:\n",
    "            print('Gear on reverse')\n",
    "    def accelerate(self):\n",
    "        option = int(input('Enter 1 to turn on nitro and 2 to turn off nitro:'))\n",
    "        if option ==1:\n",
    "            print('Nitro engaged')\n",
    "        elif option == 2:\n",
    "            print('Nito Disengaged')\n",
    "        else:\n",
    "            print('Invalid option')\n",
    "    def stop(self):\n",
    "        print('Game over!!!!!!!!!! bike overspeed')\n",
    "bike = bikesimulation('canyon','strive','Yellow',2016,\"14mph\") "
   ]
  },
  {
   "cell_type": "code",
   "execution_count": 1,
   "id": "9f14a476",
   "metadata": {},
   "outputs": [
    {
     "name": "stdout",
     "output_type": "stream",
     "text": [
      "please enter your height in cm:156\n",
      "please enter your weight in kg:56\n",
      "Your BMI is 23.011176857330703\n",
      "You are healthy.\n"
     ]
    }
   ],
   "source": [
    "height = float(input(\"please enter your height in cm:\"))\n",
    "weight = float(input(\"please enter your weight in kg:\"))\n",
    "BMI = weight / (height/100)**2\n",
    "print(f\"Your BMI is {BMI}\")\n",
    "if BMI <= 18.4:\n",
    "    print(\"You are underweight.\")\n",
    "elif BMI <= 24.9:\n",
    "    print(\"You are healthy.\")\n",
    "elif BMI <= 29.9:\n",
    "    print(\"You are over weight.\")\n",
    "elif BMI <= 34.9:\n",
    "    print(\"You are severely over weight.\")\n",
    "elif BMI <= 39.9:\n",
    "    print(\"You are obese.\")\n",
    "else:\n",
    "    print(\"You are severely obese.\")"
   ]
  },
  {
   "cell_type": "code",
   "execution_count": 1,
   "id": "5ee76fd2",
   "metadata": {},
   "outputs": [
    {
     "ename": "SyntaxError",
     "evalue": "invalid syntax (1327374641.py, line 1)",
     "output_type": "error",
     "traceback": [
      "\u001b[1;36m  Input \u001b[1;32mIn [1]\u001b[1;36m\u001b[0m\n\u001b[1;33m    create database hospitalmanagementsystem;\u001b[0m\n\u001b[1;37m           ^\u001b[0m\n\u001b[1;31mSyntaxError\u001b[0m\u001b[1;31m:\u001b[0m invalid syntax\n"
     ]
    }
   ],
   "source": [
    "create database hospitalmanagementsystem;\n",
    "use hospitalmanagementsystem;\n",
    "create table adminrecords(id int not null primary key,AdminName varchar(50) not null,\n",
    "AdminGender varchar(10) not null);\n",
    "\n",
    "alter table adminrecords add column admincontact varchar(45) not null;\n",
    "\n",
    "alter table adminrecords add column adminmaritalstatus varchar(20) not null after AdminName;\n",
    "alter table  adminrecords add column placeofworship varchar(50) not null;\n",
    "\n",
    "alter table adminrecords modify placeofworship varchar(50) null;\n",
    "desc adminrecords;\n",
    "alter table adminrecords change adminmaritalstatus maritalstatus varchar(20) not null;\n",
    "\n",
    "alter table adminrecords drop column placeofworship;\n",
    "rename table adminrecords to admindetails;"
   ]
  },
  {
   "cell_type": "code",
   "execution_count": null,
   "id": "33f7ff88",
   "metadata": {},
   "outputs": [],
   "source": []
  }
 ],
 "metadata": {
  "kernelspec": {
   "display_name": "Python 3 (ipykernel)",
   "language": "python",
   "name": "python3"
  },
  "language_info": {
   "codemirror_mode": {
    "name": "ipython",
    "version": 3
   },
   "file_extension": ".py",
   "mimetype": "text/x-python",
   "name": "python",
   "nbconvert_exporter": "python",
   "pygments_lexer": "ipython3",
   "version": "3.9.12"
  }
 },
 "nbformat": 4,
 "nbformat_minor": 5
}
