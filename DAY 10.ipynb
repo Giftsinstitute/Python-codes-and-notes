{
 "cells": [
  {
   "cell_type": "markdown",
   "id": "fdc21413",
   "metadata": {},
   "source": [
    "# Your brother is having some issues in his phone store of product not complete having his brother as his manager, you are to write a python program to take in some details to have a proper documentary and also advice your friend on what to do abou his brother to avoid family issues. You are to use class and object. "
   ]
  },
  {
   "cell_type": "markdown",
   "id": "b28b0df4",
   "metadata": {},
   "source": [
    "# File Handing"
   ]
  },
  {
   "cell_type": "code",
   "execution_count": 2,
   "id": "19f7868b",
   "metadata": {},
   "outputs": [],
   "source": [
    "# how to create a new file\n",
    "# w - write\n",
    "# r - read\n",
    "# a - check if the file exist, check the content and add to it also it checks if the file does not exist, it create the file and add text to it.\n",
    "# r+ - read before you append"
   ]
  },
  {
   "cell_type": "code",
   "execution_count": 1,
   "id": "2cc2a740",
   "metadata": {},
   "outputs": [],
   "source": [
    "file = open('demo.doc','w')\n",
    "file.write('''Your brother is having some issues in his phone store of product not complete\n",
    "having his brother as his manager, you are to write a python program to take in some details\n",
    "to have a proper documentary\n",
    "and also advice your friend on what to do about his brother to avoid family issues. You are to use class\n",
    "and object.\n",
    "''')\n",
    "file.close()"
   ]
  },
  {
   "cell_type": "code",
   "execution_count": 3,
   "id": "c6c06af7",
   "metadata": {},
   "outputs": [
    {
     "name": "stdout",
     "output_type": "stream",
     "text": [
      "num1 = 68 #variable num1 holding an integer value of 68\n",
      "num2 = 52.4 #variable num2 holding a floating value of 52.4\n",
      "name = 'gift' # variable holding a string value of gift\n",
      "X = True # variable X holding a boolean value True\n",
      "print (num1)\n",
      "\n",
      "word = 'we\\'re brothers from the other side of the town' # backward slash denote escape character\n",
      "print (word)\n",
      "\n",
      "word2 = \"we're brothers from the other side of the town\"\n",
      "print (word2)\n",
      "\n",
      "word3 = 'python is fun, \\npython is easy, \\npython is an highlevel language' # backward slash + n (\\n) denotes new line\n",
      "print (word3)\n",
      "\n",
      "word4 = ''' python is fun\n",
      "python is easy\n",
      "python is an highlevel language ''' # this is a multiline string\n",
      "print (word4)\n",
      "\n",
      "# STRING CONCATENATION\n",
      "print ('hello' + ' ' +'world' ) #joining of string and string\n",
      "print ( 'hello ' + 'world')\n",
      "\n",
      "print ('welcome to python class ' + name) # joining of string and variable also holding a string value\n",
      "\n",
      "surname = 'kanjuni'\n",
      "print(surname, name) # joining of variable and variable holding string value\n",
      "\n",
      "# STRING FORMATTING\n",
      "price1 = 45000\n",
      "price2 = 15000\n",
      "price3 = 85000\n",
      "report = ' I sold 3 shirts for {}, 2 pairs of shoes for {}, and a suit for {}'\n",
      "print(report.format(price1,price2,price3))\n",
      "\n",
      "print(f'I sold 3 pairs of shirt for {price1}, 2 pairs of shoe for {price2}, and a suit for {price3}')\n",
      "\n",
      "\n"
     ]
    }
   ],
   "source": [
    "file = open('day1.py','r')\n",
    "print(file.read())\n",
    "file.close()"
   ]
  },
  {
   "cell_type": "code",
   "execution_count": 6,
   "id": "f34c7b83",
   "metadata": {},
   "outputs": [],
   "source": [
    "file = open('demo2.doc','a')\n",
    "file.write('python is fun')\n",
    "file.close()"
   ]
  },
  {
   "cell_type": "code",
   "execution_count": 7,
   "id": "c42a353e",
   "metadata": {},
   "outputs": [
    {
     "name": "stdout",
     "output_type": "stream",
     "text": [
      "python is fun\n"
     ]
    }
   ],
   "source": [
    "file = open('demo2.doc','r+')\n",
    "print(file.read())\n",
    "file.write('\\npython is an hiigh programming language')\n",
    "file.close()"
   ]
  },
  {
   "cell_type": "code",
   "execution_count": 10,
   "id": "266d1b0b",
   "metadata": {},
   "outputs": [],
   "source": [
    "#mental age =  score\n",
    "#age/mental age * 100\n",
    "#use a dictionary with a condition or\n",
    "#condition or\n",
    "#class"
   ]
  },
  {
   "cell_type": "code",
   "execution_count": null,
   "id": "8e0037c4",
   "metadata": {},
   "outputs": [],
   "source": []
  }
 ],
 "metadata": {
  "kernelspec": {
   "display_name": "Python 3 (ipykernel)",
   "language": "python",
   "name": "python3"
  },
  "language_info": {
   "codemirror_mode": {
    "name": "ipython",
    "version": 3
   },
   "file_extension": ".py",
   "mimetype": "text/x-python",
   "name": "python",
   "nbconvert_exporter": "python",
   "pygments_lexer": "ipython3",
   "version": "3.9.12"
  }
 },
 "nbformat": 4,
 "nbformat_minor": 5
}
