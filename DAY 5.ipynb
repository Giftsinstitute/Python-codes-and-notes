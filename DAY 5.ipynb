{
 "cells": [
  {
   "cell_type": "code",
   "execution_count": 5,
   "id": "492926fe",
   "metadata": {},
   "outputs": [
    {
     "name": "stdout",
     "output_type": "stream",
     "text": [
      "pppyyyttthhhooonnn\n",
      "\n",
      "pythonpythonpython\n"
     ]
    }
   ],
   "source": [
    "word = 'python'\n",
    "for char in word:\n",
    "    print(char * 3, end= '')\n",
    "print('\\n')\n",
    "print(word * 3)"
   ]
  },
  {
   "cell_type": "code",
   "execution_count": 8,
   "id": "8ee2480c",
   "metadata": {},
   "outputs": [
    {
     "name": "stdout",
     "output_type": "stream",
     "text": [
      "Hey pelumi, this is to remind you of our slated program to hold 15th of August 2022 by 4pm prompt\n",
      "Hey joy, this is to remind you of our slated program to hold 15th of August 2022 by 4pm prompt\n",
      "Hey sarah, this is to remind you of our slated program to hold 15th of August 2022 by 4pm prompt\n",
      "Hey gozie, this is to remind you of our slated program to hold 15th of August 2022 by 4pm prompt\n",
      "Hey gift, this is to remind you of our slated program to hold 15th of August 2022 by 4pm prompt\n"
     ]
    }
   ],
   "source": [
    "friend = ['pelumi', 'joy', 'sarah', 'gozie', 'gift']\n",
    "for name in friend:\n",
    "    print(f'Hey {name}, this is to remind you of our slated program to hold 15th of August 2022 by 4pm prompt')"
   ]
  },
  {
   "cell_type": "raw",
   "id": "819e5d9f",
   "metadata": {},
   "source": []
  },
  {
   "cell_type": "code",
   "execution_count": 9,
   "id": "d0eabe40",
   "metadata": {},
   "outputs": [
    {
     "name": "stdout",
     "output_type": "stream",
     "text": [
      "provide name:James\n",
      "Hey James, this is to remind you of our slated program to hold 15th August 2022 by 4pm prompt\n"
     ]
    }
   ],
   "source": [
    "records = {\n",
    "    'Name1':'Hope',\n",
    "    'Name2':'James',\n",
    "    'Name3':'Obi',\n",
    "    'Name4':'Faith',\n",
    "    'Name4':'Adams'\n",
    "}\n",
    "name = input('provide name:')\n",
    "for key in records:\n",
    "    if name == records[key]:\n",
    "        print(f'Hey {name}, this is to remind you of our slated program to hold 15th August 2022 by 4pm prompt')"
   ]
  },
  {
   "cell_type": "code",
   "execution_count": 14,
   "id": "65838be3",
   "metadata": {},
   "outputs": [
    {
     "name": "stdout",
     "output_type": "stream",
     "text": [
      "provide First name:James\n",
      "congratulations James, your score is 85\n"
     ]
    }
   ],
   "source": [
    "details = {\n",
    "    'Hope':90,\n",
    "    'James':85,\n",
    "    'Obi':100,\n",
    "    'Faith':75,\n",
    "    'Adams':80\n",
    "}\n",
    "name = input('provide First name:')\n",
    "for key in details:\n",
    "    if key == name:\n",
    "        print(f'congratulations {key}, your score is {details[key]}')\n",
    "        break\n",
    "else:\n",
    "    print('Record not found')"
   ]
  },
  {
   "cell_type": "code",
   "execution_count": 15,
   "id": "f81cda70",
   "metadata": {},
   "outputs": [
    {
     "name": "stdout",
     "output_type": "stream",
     "text": [
      "provide First name:Adams\n",
      "congratulations Adams, your score is 80\n",
      "Record not found\n"
     ]
    }
   ],
   "source": [
    "details = {\n",
    "    'Hope':90,\n",
    "    'James':85,\n",
    "    'Obi':100,\n",
    "    'Faith':75,\n",
    "    'Adams':80\n",
    "}\n",
    "name = input('provide First name:')\n",
    "for key in details:\n",
    "    if key == name:\n",
    "        print(f'congratulations {key}, your score is {details[key]}')\n",
    "        continue\n",
    "else:\n",
    "    print('Record not found')"
   ]
  },
  {
   "cell_type": "code",
   "execution_count": 17,
   "id": "ccbd4e4c",
   "metadata": {},
   "outputs": [
    {
     "name": "stdout",
     "output_type": "stream",
     "text": [
      "please proovide your number25\n",
      "The sqrt of 25 is 5.0\n",
      "please provide your number5\n",
      "The sqrt of 5 is 2.23606797749979\n",
      "please provide your number85\n",
      "The sqrt of 85 is 9.219544457292887\n",
      "please provide your number42\n",
      "The sqrt of 42 is 6.48074069840786\n",
      "please provide your number0\n"
     ]
    }
   ],
   "source": [
    "import math\n",
    "num = int(input('please proovide your number'))\n",
    "counter = 1\n",
    "while num !=0:\n",
    "    print(f'The sqrt of {num} is {math.sqrt(num)}')\n",
    "    num = int(input('please provide your number'))\n",
    "    counter = counter + 1"
   ]
  },
  {
   "cell_type": "code",
   "execution_count": 18,
   "id": "619b28c6",
   "metadata": {},
   "outputs": [],
   "source": [
    "import random as rn\n",
    "numbers = []\n",
    "counter = 1\n",
    "while counter <=100:\n",
    "    num = rn.randint(10,45)\n",
    "    numbers.append(num)\n",
    "    counter += 1"
   ]
  },
  {
   "cell_type": "code",
   "execution_count": 19,
   "id": "4217ce08",
   "metadata": {},
   "outputs": [
    {
     "name": "stdout",
     "output_type": "stream",
     "text": [
      "[37, 34, 17, 14, 28, 27, 22, 44, 32, 40, 18, 45, 31, 35, 37, 12, 34, 36, 25, 28, 35, 23, 35, 38, 43, 28, 14, 37, 44, 13, 33, 10, 25, 33, 25, 42, 13, 39, 41, 19, 14, 30, 28, 44, 13, 38, 45, 41, 25, 11, 37, 12, 43, 27, 37, 37, 17, 32, 27, 34, 25, 24, 10, 45, 29, 10, 12, 12, 33, 30, 21, 13, 14, 24, 45, 18, 12, 40, 33, 41, 22, 21, 26, 39, 19, 11, 33, 16, 43, 26, 44, 37, 27, 19, 22, 31, 33, 29, 17, 12]\n"
     ]
    }
   ],
   "source": [
    "print(numbers)"
   ]
  },
  {
   "cell_type": "code",
   "execution_count": 20,
   "id": "663c1607",
   "metadata": {},
   "outputs": [
    {
     "name": "stdout",
     "output_type": "stream",
     "text": [
      "100\n"
     ]
    }
   ],
   "source": [
    "print(len(numbers))"
   ]
  },
  {
   "cell_type": "code",
   "execution_count": 21,
   "id": "fde99467",
   "metadata": {},
   "outputs": [
    {
     "name": "stdout",
     "output_type": "stream",
     "text": [
      "player one score is 7\n",
      "player two score is 9\n",
      "player one wins\n",
      "player one score is 5\n",
      "player two score is 12\n",
      "player one wins\n",
      "player one score is 7\n",
      "player two score is 6\n",
      "player one wins\n",
      "player one score is 3\n",
      "player two score is 7\n",
      "player one wins\n",
      "player one score is 9\n",
      "player two score is 8\n",
      "player one wins\n",
      "player one score is 7\n",
      "player two score is 5\n",
      "player one wins\n",
      "player one score is 7\n",
      "player two score is 6\n",
      "player one wins\n",
      "player one score is 6\n",
      "player two score is 4\n",
      "player one wins\n",
      "player one score is 10\n",
      "player two score is 5\n",
      "player one wins\n",
      "player one score is 10\n",
      "player two score is 5\n",
      "it is a draw\n",
      "player one is the overall winner by total point of 32 point\n"
     ]
    }
   ],
   "source": [
    "import random as rn\n",
    "player1score = 0\n",
    "player2score = 0\n",
    "for i in range(1,11):\n",
    "    dice1 = rn.randint(1,6) + rn.randint(1,6)\n",
    "    dice2 = rn.randint(1,6) + rn.randint(1,6)\n",
    "    if dice1 > dice2:\n",
    "        print(f'player one score is {dice1}')\n",
    "        print(f'player two score is {dice2}')\n",
    "        print(f'player one wins')\n",
    "        player1score += 5\n",
    "    elif dice2 > dice1:\n",
    "        print(f'player one score is {dice1}')\n",
    "        print(f'player two score is {dice2}')\n",
    "        print(f'player one wins')\n",
    "        player2score += 5\n",
    "else:\n",
    "    print(f'player one score is {dice1}')\n",
    "    print(f'player two score is {dice2}')\n",
    "    print('it is a draw')\n",
    "    player1score += 2\n",
    "    player2score += 2\n",
    "if player1score > player2score:\n",
    "    print(f'player one is the overall winner by total point of {player1score} point')\n",
    "elif player2score > player1score:\n",
    "    print(f'player two is the overall winner by total point of {player2score} point')\n",
    "else:\n",
    "    print('It is a draw')"
   ]
  },
  {
   "cell_type": "code",
   "execution_count": null,
   "id": "e7a42e53",
   "metadata": {},
   "outputs": [],
   "source": [
    "dice_2 ="
   ]
  }
 ],
 "metadata": {
  "kernelspec": {
   "display_name": "Python 3 (ipykernel)",
   "language": "python",
   "name": "python3"
  },
  "language_info": {
   "codemirror_mode": {
    "name": "ipython",
    "version": 3
   },
   "file_extension": ".py",
   "mimetype": "text/x-python",
   "name": "python",
   "nbconvert_exporter": "python",
   "pygments_lexer": "ipython3",
   "version": "3.9.12"
  }
 },
 "nbformat": 4,
 "nbformat_minor": 5
}
