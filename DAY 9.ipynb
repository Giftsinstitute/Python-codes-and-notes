{
 "cells": [
  {
   "cell_type": "markdown",
   "id": "b16de692",
   "metadata": {},
   "source": [
    "# handling error"
   ]
  },
  {
   "cell_type": "code",
   "execution_count": 1,
   "id": "df06c237",
   "metadata": {},
   "outputs": [],
   "source": [
    "#try\n",
    "#except\n",
    "#else\n",
    "#finally\n",
    "#the try block wil verify the code if it has error\n",
    "#first except handles the value error\n",
    "# second except is used to check if theres other error that you did not handle"
   ]
  },
  {
   "cell_type": "code",
   "execution_count": 2,
   "id": "76a9db25",
   "metadata": {},
   "outputs": [
    {
     "name": "stdout",
     "output_type": "stream",
     "text": [
      "provide any charp\n",
      "You have encoutered one or more error\n"
     ]
    }
   ],
   "source": [
    "try:\n",
    "    num = str(input('provide any char'))\n",
    "    print(float(num))\n",
    "except:\n",
    "    print('You have encoutered one or more error')"
   ]
  },
  {
   "cell_type": "code",
   "execution_count": 5,
   "id": "802f151f",
   "metadata": {},
   "outputs": [
    {
     "name": "stdout",
     "output_type": "stream",
     "text": [
      "provide any char M\n",
      "sorry developers fault\n"
     ]
    }
   ],
   "source": [
    "try:\n",
    "    num = str(input('provide any char'))\n",
    "    print(float(num))\n",
    "except ValueError:\n",
    "    print('sorry developers fault')\n",
    "except:\n",
    "    print('You have encountered one or more erorrs')"
   ]
  },
  {
   "cell_type": "code",
   "execution_count": 7,
   "id": "9c53c87d",
   "metadata": {},
   "outputs": [
    {
     "name": "stdout",
     "output_type": "stream",
     "text": [
      "PLEASE SIT ON DESIRED ROW \n",
      "ROW1:RICE AND COMPANY\n",
      "ROW2:SWALLOW AND COMPANY\n",
      "ROW3:GRILLED\n",
      "\n",
      "Selected row:3\n",
      "How many chickengrilled needed 4\n",
      "How many fishgrilled needed1\n",
      "How many beefgrilled needed2\n",
      "How many bottle of drinks7\n",
      "How many bottle of water1\n",
      "Your total bill is 28800 thanks for patronage\n",
      "We will be looking forward to have you around again\n",
      "Check us via our website www.yourstomachmatters.com\n"
     ]
    }
   ],
   "source": [
    "try:\n",
    "    print('''PLEASE SIT ON DESIRED ROW \n",
    "ROW1:RICE AND COMPANY\n",
    "ROW2:SWALLOW AND COMPANY\n",
    "ROW3:GRILLED\n",
    "''')\n",
    "    row = int(input('Selected row:'))\n",
    "    if row == 1:\n",
    "        plate =  int(input('How many plate to be served'))\n",
    "        riceneeded = input('what nature of rice do you prefer')\n",
    "        rice = int(input('How many spoon of rice needed'))\n",
    "        beef = int(input('How many pieces of beef'))\n",
    "        chicken = int(input('How many pieces of chicken'))\n",
    "        drinks =  int(input('How many bottle of drinks'))\n",
    "        water =  int(input('How many bottle of water'))\n",
    "        \n",
    "        riceprice = rice * 200\n",
    "        beefprice = beef *500\n",
    "        chickenprice = chicken * 1200\n",
    "        drinksprice = drinks*300\n",
    "        waterprice = water*200\n",
    "        totalprice = plate*(riceprice + beefprice + chickenprice + drinksprice + waterprice)\n",
    "        print(f'Your total bill is {totalprice} thanks for patronage')\n",
    "    elif row == 2:\n",
    "        plate =  int(input('How many plate to be served'))\n",
    "        swalloneededwithsoup = input('what nature of swallow and soup do you prefer')\n",
    "        swallow = int(input('How many raps of swallow needed with soup'))\n",
    "        beef = int(input('How many pieces of beef'))\n",
    "        chicken = int(input('How many pieces of chicken'))\n",
    "        drinks =  int(input('How many bottle of drinks'))\n",
    "        water =  int(input('How many bottle of water'))\n",
    "        \n",
    "        swallowprice = swallow * 200\n",
    "        beefprice = beef *500\n",
    "        chickenprice = chicken * 1200\n",
    "        drinksprice = drinks*300\n",
    "        waterprice = water*200\n",
    "        totalprice = plate*(swallowprice + beefprice + chickenprice + drinksprice + waterprice)\n",
    "        print(f'Your total bill is {totalprice} thanks for patronage')\n",
    "    elif row == 3:\n",
    "    \n",
    "        chickengrilled = int(input('How many chickengrilled needed '))\n",
    "        fishgrilled = int(input('How many fishgrilled needed'))\n",
    "        beefgrilled = int(input('How many beefgrilled needed'))\n",
    "        drinks =  int(input('How many bottle of drinks'))\n",
    "        water =  int(input('How many bottle of water'))\n",
    "        \n",
    "        chickengrilledprice = chickengrilled * 4500\n",
    "        fishgrilledprice = fishgrilled *3500\n",
    "        beefgrilledprice = beefgrilled * 2500\n",
    "        drinksprice = drinks*300\n",
    "        waterprice = water*200\n",
    "        totalprice =(chickengrilledprice + fishgrilledprice + beefgrilledprice + drinksprice + waterprice)\n",
    "        print(f'Your total bill is {totalprice} thanks for patronage')\n",
    "except ValueError:\n",
    "    print('sorry developers fault')\n",
    "except:\n",
    "    print('You have encountered one or more errors')\n",
    "else:\n",
    "    print('We will be looking forward to have you around again')\n",
    "finally:\n",
    "    print('Check us via our website www.yourstomachmatters.com')"
   ]
  },
  {
   "cell_type": "markdown",
   "id": "4f39769d",
   "metadata": {},
   "source": [
    "# Your brother is having some issues in his phone store of product not complete having his brother as his manager, you are to write a python program to take in some details to have a proper documentary and also advice your friend on what to do about his brother to avoid family issues. You are to use class and object. "
   ]
  },
  {
   "cell_type": "code",
   "execution_count": 1,
   "id": "73f2c6bf",
   "metadata": {},
   "outputs": [],
   "source": [
    "class phonestore:\n",
    "    def __init__(self,Model,Brand,Color,Ram):\n",
    "        self.Model = Model\n",
    "        self.Brand = Brand\n",
    "        self.Color = Color\n",
    "        self.Ram = Ram\n",
    "    def details(self):\n",
    "        print(f'{self.Model} {self.Brand} is a phone product in the store')\n",
    "    def documentary(self,option):\n",
    "        if option == 1:\n",
    "            print('documentary is Tecno')\n",
    "        elif option == 2:\n",
    "            print('documentary is Samsung')\n",
    "        elif option == 3:\n",
    "            print('documentary is Itel')\n",
    "    def decision(self):\n",
    "        option = int(input('Enter 1 for deduction and 2 for query letter:'))\n",
    "        if option == 1:\n",
    "            print('deduction in salary')\n",
    "        elif option == 2:\n",
    "            print('query letter')\n",
    "        else:\n",
    "            print('You are sacked')\n",
    "    def advice(self):\n",
    "        print('There is a rule!!!!!!! Take precaution')\n",
    "phone = phonestore('Tecno','Spark-Go','Purple','2GB') "
   ]
  },
  {
   "cell_type": "code",
   "execution_count": 4,
   "id": "fee5f8d0",
   "metadata": {},
   "outputs": [
    {
     "ename": "NameError",
     "evalue": "name 'details' is not defined",
     "output_type": "error",
     "traceback": [
      "\u001b[1;31m---------------------------------------------------------------------------\u001b[0m",
      "\u001b[1;31mNameError\u001b[0m                                 Traceback (most recent call last)",
      "Input \u001b[1;32mIn [4]\u001b[0m, in \u001b[0;36m<cell line: 1>\u001b[1;34m()\u001b[0m\n\u001b[1;32m----> 1\u001b[0m \u001b[38;5;28mprint\u001b[39m(\u001b[43mdetails\u001b[49m())\n\u001b[0;32m      2\u001b[0m \u001b[38;5;28mprint\u001b[39m(documentary(\u001b[38;5;241m1\u001b[39m))\n\u001b[0;32m      3\u001b[0m \u001b[38;5;28mprint\u001b[39m(decision())\n",
      "\u001b[1;31mNameError\u001b[0m: name 'details' is not defined"
     ]
    }
   ],
   "source": [
    "print(details())\n",
    "print(documentary(1))\n",
    "print(decision())\n",
    "print(advice())"
   ]
  },
  {
   "cell_type": "code",
   "execution_count": null,
   "id": "aedecc24",
   "metadata": {},
   "outputs": [],
   "source": []
  }
 ],
 "metadata": {
  "kernelspec": {
   "display_name": "Python 3 (ipykernel)",
   "language": "python",
   "name": "python3"
  },
  "language_info": {
   "codemirror_mode": {
    "name": "ipython",
    "version": 3
   },
   "file_extension": ".py",
   "mimetype": "text/x-python",
   "name": "python",
   "nbconvert_exporter": "python",
   "pygments_lexer": "ipython3",
   "version": "3.9.12"
  }
 },
 "nbformat": 4,
 "nbformat_minor": 5
}
