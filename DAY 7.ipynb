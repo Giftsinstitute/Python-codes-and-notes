{
 "cells": [
  {
   "cell_type": "markdown",
   "id": "dccb5013",
   "metadata": {},
   "source": [
    "# FUNCTION CONTINUATION"
   ]
  },
  {
   "cell_type": "code",
   "execution_count": 1,
   "id": "51813109",
   "metadata": {},
   "outputs": [
    {
     "name": "stdout",
     "output_type": "stream",
     "text": [
      "<class 'tuple'>\n",
      "34.75\n"
     ]
    }
   ],
   "source": [
    "import statistics as stat\n",
    "def average(*args):# function to accept variable length of non keyword arguement\n",
    "    print(type(args))\n",
    "    print(stat.mean(args))\n",
    "average(10,45,52,32)"
   ]
  },
  {
   "cell_type": "markdown",
   "id": "e05b75b6",
   "metadata": {},
   "source": [
    "# unpacking is calling the function then unpack"
   ]
  },
  {
   "cell_type": "code",
   "execution_count": 2,
   "id": "fcdd6e02",
   "metadata": {},
   "outputs": [
    {
     "name": "stdout",
     "output_type": "stream",
     "text": [
      "<class 'tuple'>\n",
      "397.3333333333333\n"
     ]
    }
   ],
   "source": [
    "numbers = [78,52,47,89,56,3040,58,67,89]# Tuple unpacking\n",
    "average(*numbers)"
   ]
  },
  {
   "cell_type": "markdown",
   "id": "762c640e",
   "metadata": {},
   "source": [
    "# function with a variable length of key word arguement(** represent key word arguement)"
   ]
  },
  {
   "cell_type": "code",
   "execution_count": 3,
   "id": "7729f9a5",
   "metadata": {},
   "outputs": [
    {
     "name": "stdout",
     "output_type": "stream",
     "text": [
      "<class 'dict'>\n",
      "Name : Gift\n",
      "Age : 28\n",
      "Gender : Female\n"
     ]
    }
   ],
   "source": [
    "def records(**kwargs):\n",
    "    print(type(kwargs))\n",
    "    for keys, values in kwargs.items():\n",
    "        print(keys, ':', values)\n",
    "records(Name='Gift',Age=28,Gender = 'Female')"
   ]
  },
  {
   "cell_type": "markdown",
   "id": "4562d070",
   "metadata": {},
   "source": [
    "# exercise \n",
    "# define a function to hold records of seven people with the following information\n",
    "# Name,Age,Gender,State,LGA, FavSport and display the output"
   ]
  },
  {
   "cell_type": "code",
   "execution_count": 5,
   "id": "5be67ee8",
   "metadata": {},
   "outputs": [
    {
     "name": "stdout",
     "output_type": "stream",
     "text": [
      "<class 'dict'>\n",
      "Names : ['Gift', 'Tolu', 'Abraham', 'Femi', 'Gozie', 'Simeon', 'Emeka']\n",
      "Age : [21, 28, 23, 34, 36, 31, 56]\n",
      "Gender : ['Female', 'Male', 'Male', 'Female', 'Male', 'Male']\n",
      "LGA : ['Egbeda', 'Lagelu', 'Onicha', 'Ndufu-Alike', 'Kubwa', 'Jiwa', 'Lekki']\n",
      "State : ['Oyo', 'Abia', 'Ekiti', 'Ebonyi', 'Imo', 'Enugu', 'Lagos']\n",
      "Favsport : ['Basketball', 'Soccer', 'Hiking', 'Wrestling', 'Swimming', 'Tabletennis', 'Soccer']\n"
     ]
    }
   ],
   "source": [
    "def records(**kwargs):\n",
    "    print(type(kwargs))\n",
    "    for keys, values in kwargs.items():\n",
    "        print(keys, ':', values)\n",
    "records(Names=['Gift','Tolu','Abraham','Femi','Gozie','Simeon','Emeka'],Age= [21,28,23,34,36,31,56],Gender= ['Female','Male','Male','Female','Male','Male'], LGA= ['Egbeda','Lagelu','Onicha','Ndufu-Alike','Kubwa','Jiwa','Lekki'], State=['Oyo','Abia','Ekiti','Ebonyi','Imo','Enugu','Lagos'], Favsport=['Basketball','Soccer','Hiking','Wrestling','Swimming','Tabletennis','Soccer'])"
   ]
  },
  {
   "cell_type": "markdown",
   "id": "426dd6e2",
   "metadata": {},
   "source": [
    "# LAMBDA FUNCTION - A function without a name(anonymous function)\n",
    "# it is used for a specific and short task and it cannot be reusable"
   ]
  },
  {
   "cell_type": "code",
   "execution_count": 6,
   "id": "bd08dde2",
   "metadata": {},
   "outputs": [
    {
     "name": "stdout",
     "output_type": "stream",
     "text": [
      "please provide a number:40\n"
     ]
    },
    {
     "data": {
      "text/plain": [
       "1600"
      ]
     },
     "execution_count": 6,
     "metadata": {},
     "output_type": "execute_result"
    }
   ],
   "source": [
    "(lambda x: x * x)(int(input('please provide a number:')))"
   ]
  },
  {
   "cell_type": "code",
   "execution_count": 7,
   "id": "72de6a30",
   "metadata": {},
   "outputs": [
    {
     "name": "stdout",
     "output_type": "stream",
     "text": [
      "please provide a number:45\n",
      "please provide a number:12\n"
     ]
    },
    {
     "data": {
      "text/plain": [
       "540"
      ]
     },
     "execution_count": 7,
     "metadata": {},
     "output_type": "execute_result"
    }
   ],
   "source": [
    "(lambda x,y: x * y)(int(input('please provide a number:')),int(input('please provide a number:')))"
   ]
  },
  {
   "cell_type": "code",
   "execution_count": 8,
   "id": "3498a88d",
   "metadata": {},
   "outputs": [
    {
     "name": "stdout",
     "output_type": "stream",
     "text": [
      "Please provide your passwordGiftrite4567\n",
      "login successful\n"
     ]
    }
   ],
   "source": [
    "# write a lambda function to check if a password start with an uppercase letter\n",
    "password = input('Please provide your password')\n",
    "if password[0] == password[0].upper():\n",
    "    print('login successful')\n",
    "else:\n",
    "    print('invalid password')"
   ]
  },
  {
   "cell_type": "code",
   "execution_count": 9,
   "id": "57632d34",
   "metadata": {},
   "outputs": [
    {
     "name": "stdout",
     "output_type": "stream",
     "text": [
      "please provide your password Giftrite4567\n"
     ]
    },
    {
     "data": {
      "text/plain": [
       "'login successful'"
      ]
     },
     "execution_count": 9,
     "metadata": {},
     "output_type": "execute_result"
    }
   ],
   "source": [
    "ur password'))(lambda password:'login successful' if password[0] == password[0].upper() else 'Invalid password')(input('please provide yo"
   ]
  },
  {
   "cell_type": "code",
   "execution_count": 13,
   "id": "4a01aff8",
   "metadata": {},
   "outputs": [
    {
     "name": "stdout",
     "output_type": "stream",
     "text": [
      "please provide your passwordGiftryt2\n"
     ]
    },
    {
     "data": {
      "text/plain": [
       "'login successful'"
      ]
     },
     "execution_count": 13,
     "metadata": {},
     "output_type": "execute_result"
    }
   ],
   "source": [
    "(lambda password:'login successful' if password[0] == password[0].upper() and len(password) == 8 and password[-1] == '0' or password[-1] == '1' or password[-1] == '2' else 'Invalid password')(input('please provide your password'))"
   ]
  },
  {
   "cell_type": "markdown",
   "id": "37ce3ad8",
   "metadata": {},
   "source": [
    "# Map is use for modifications of strings, list and tuple\n",
    "# filter is used for selecting values in string, list and tuple"
   ]
  },
  {
   "cell_type": "code",
   "execution_count": 16,
   "id": "5c5b924f",
   "metadata": {},
   "outputs": [
    {
     "data": {
      "text/plain": [
       "['GIFT', 'TOLU', 'ABRAHAM', 'FEMI', 'GOZIE', 'SIMEON', 'EMEKA']"
      ]
     },
     "execution_count": 16,
     "metadata": {},
     "output_type": "execute_result"
    }
   ],
   "source": [
    "Names=['Gift','Tolu','Abraham','Femi','Gozie','Simeon','Emeka']\n",
    "\n",
    "update_names = list(map(lambda x: str.upper(x),Names))\n",
    "update_names"
   ]
  },
  {
   "cell_type": "code",
   "execution_count": 17,
   "id": "20f8d487",
   "metadata": {},
   "outputs": [],
   "source": [
    "import random as rn\n",
    "outcome = []\n",
    "counter = 1\n",
    "while counter <= 50:\n",
    "    num = rn.randint(15,50)\n",
    "    outcome .append(num)\n",
    "    counter = counter + 1"
   ]
  },
  {
   "cell_type": "code",
   "execution_count": 18,
   "id": "5c9afbeb",
   "metadata": {},
   "outputs": [
    {
     "name": "stdout",
     "output_type": "stream",
     "text": [
      "[23, 32, 48, 48, 44, 39, 49, 42, 15, 32, 20, 20, 43, 36, 20, 40, 37, 45, 31, 34, 43, 48, 41, 36, 46, 21, 27, 40, 17, 15, 23, 17, 34, 23, 29, 37, 26, 27, 26, 24, 22, 26, 39, 35, 16, 20, 20, 27, 20, 26]\n"
     ]
    }
   ],
   "source": [
    "print(outcome)"
   ]
  },
  {
   "cell_type": "code",
   "execution_count": 20,
   "id": "5116aa86",
   "metadata": {},
   "outputs": [
    {
     "name": "stdout",
     "output_type": "stream",
     "text": [
      "[4.795831523312719, 5.656854249492381, 6.928203230275509, 6.928203230275509, 6.6332495807108, 6.244997998398398, 7.0, 6.48074069840786, 3.872983346207417, 5.656854249492381, 4.47213595499958, 4.47213595499958, 6.557438524302, 6.0, 4.47213595499958, 6.324555320336759, 6.082762530298219, 6.708203932499369, 5.5677643628300215, 5.830951894845301, 6.557438524302, 6.928203230275509, 6.4031242374328485, 6.0, 6.782329983125268, 4.58257569495584, 5.196152422706632, 6.324555320336759, 4.123105625617661, 3.872983346207417, 4.795831523312719, 4.123105625617661, 5.830951894845301, 4.795831523312719, 5.385164807134504, 6.082762530298219, 5.0990195135927845, 5.196152422706632, 5.0990195135927845, 4.898979485566356, 4.69041575982343, 5.0990195135927845, 6.244997998398398, 5.916079783099616, 4.0, 4.47213595499958, 4.47213595499958, 5.196152422706632, 4.47213595499958, 5.0990195135927845]\n"
     ]
    }
   ],
   "source": [
    "import math\n",
    "outcome_sqrt =list(map(lambda x: math.sqrt(x),outcome))\n",
    "print(outcome_sqrt)"
   ]
  },
  {
   "cell_type": "code",
   "execution_count": 24,
   "id": "1befcc73",
   "metadata": {},
   "outputs": [
    {
     "name": "stdout",
     "output_type": "stream",
     "text": [
      "[23, 32, 48, 48, 44, 39, 49, 42, 32, 43, 36, 40, 37, 45, 31, 34, 43, 48, 41, 36, 46, 21, 27, 40, 23, 34, 23, 29, 37, 26, 27, 26, 24, 22, 26, 39, 35, 27, 26]\n"
     ]
    }
   ],
   "source": [
    "outcome_selection =list(filter(lambda x: x > 20,outcome))\n",
    "print(outcome_selection)"
   ]
  },
  {
   "cell_type": "markdown",
   "id": "df32b2d6",
   "metadata": {},
   "source": [
    "# Assignment\n",
    "# Write a function to build a Body Mass Index {IBM} calculator"
   ]
  },
  {
   "cell_type": "code",
   "execution_count": 1,
   "id": "b9f344db",
   "metadata": {},
   "outputs": [
    {
     "name": "stdout",
     "output_type": "stream",
     "text": [
      "please enter your height in cm:155\n",
      "please enter your weight in kg:65\n",
      "Your BMI is 27.055150884495315\n",
      "You are over weight.\n"
     ]
    }
   ],
   "source": [
    "height = float(input(\"please enter your height in cm:\"))\n",
    "weight = float(input(\"please enter your weight in kg:\"))\n",
    "BMI = weight / (height/100)**2\n",
    "print(f\"Your BMI is {BMI}\")\n",
    "if BMI <= 18.4:\n",
    "    print(\"You are underweight.\")\n",
    "elif BMI <= 24.9:\n",
    "    print(\"You are healthy.\")\n",
    "elif BMI <= 29.9:\n",
    "    print(\"You are over weight.\")\n",
    "elif BMI <= 34.9:\n",
    "    print(\"You are severely over weight.\")\n",
    "elif BMI <= 39.9:\n",
    "    print(\"You are obese.\")\n",
    "else:\n",
    "    print(\"You are severely obese.\")"
   ]
  },
  {
   "cell_type": "code",
   "execution_count": null,
   "id": "a2f9305e",
   "metadata": {},
   "outputs": [],
   "source": []
  }
 ],
 "metadata": {
  "kernelspec": {
   "display_name": "Python 3 (ipykernel)",
   "language": "python",
   "name": "python3"
  },
  "language_info": {
   "codemirror_mode": {
    "name": "ipython",
    "version": 3
   },
   "file_extension": ".py",
   "mimetype": "text/x-python",
   "name": "python",
   "nbconvert_exporter": "python",
   "pygments_lexer": "ipython3",
   "version": "3.9.12"
  }
 },
 "nbformat": 4,
 "nbformat_minor": 5
}
