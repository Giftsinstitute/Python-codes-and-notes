{
 "cells": [
  {
   "cell_type": "code",
   "execution_count": 18,
   "id": "5c4dc4fb",
   "metadata": {},
   "outputs": [
    {
     "name": "stdout",
     "output_type": "stream",
     "text": [
      "please provide a number:5\n"
     ]
    }
   ],
   "source": [
    "#if\n",
    "num = int(input('please provide a number:'))\n",
    "if num ==0:\n",
    "    print('You have provided the right key word')"
   ]
  },
  {
   "cell_type": "code",
   "execution_count": 22,
   "id": "da1fee80",
   "metadata": {},
   "outputs": [
    {
     "name": "stdout",
     "output_type": "stream",
     "text": [
      "please provide a number:-12\n",
      "You have provided a positive or a negative number\n"
     ]
    }
   ],
   "source": [
    "num = int(input('please provide a number:'))\n",
    "if num > 0 or num < 0:\n",
    "    print('You have provided a positive or a negative number')\n",
    "else:\n",
    "    print('You have provided zero as the outcome')"
   ]
  },
  {
   "cell_type": "markdown",
   "id": "6655e06b",
   "metadata": {},
   "source": [
    "# you work with a transport company you are requested to calculate the speed of a driver for every 5 kilometer to see if the driver maintain the default speed limit of 70 or not,. If the driver speed is above the default speed calculate the point difference using this formular (driverspeed-defaultspeed) // 5 write another condition to check if the point accumulated by the driver is <= 12 if so warn the driver any point above 12 suspend the driver"
   ]
  },
  {
   "cell_type": "code",
   "execution_count": 4,
   "id": "cc1896fe",
   "metadata": {},
   "outputs": [
    {
     "name": "stdout",
     "output_type": "stream",
     "text": [
      "please provide the driverspeed:90\n",
      "You have exceeded the speed limit point by a total point of 4.0 therefore be warned\n"
     ]
    }
   ],
   "source": [
    "defaultspeed = 70\n",
    "driverspeed = float(input('please provide the driverspeed:'))\n",
    "if driverspeed <= 70: \n",
    "    print('driverspeed on point')\n",
    "else:\n",
    "    speedpoint = (driverspeed - defaultspeed) // 5\n",
    "    if speedpoint <= 12:\n",
    "        print(f'You have exceeded the speed limit point by a total point of {speedpoint} therefore be warned')\n",
    "    else:\n",
    "        print(f'You have exceeded the speed limit point by a total point of {speedpoint} therefore you are suspended')"
   ]
  },
  {
   "cell_type": "code",
   "execution_count": 11,
   "id": "4a08ffbb",
   "metadata": {},
   "outputs": [
    {
     "name": "stdout",
     "output_type": "stream",
     "text": [
      "please provide the driverspeed:500\n",
      "You have exceeded the speed limit point by a total point of 86.0 therefore you are suspended\n"
     ]
    }
   ],
   "source": [
    "defaultspeed = 70\n",
    "driverspeed = float(input('please provide the driverspeed:'))\n",
    "speedpoint = (driverspeed - defaultspeed) // 5\n",
    "if driverspeed <= 70:\n",
    "    print('driverspeed on point')\n",
    "elif speedpoint <= 12:\n",
    "    print(f'You have exceeded the speed limit point by a total point of {speedpoint} therefore be warned')\n",
    "else:\n",
    "    print(f'You have exceeded the speed limit point by a total point of {speedpoint} therefore you are suspended')"
   ]
  },
  {
   "cell_type": "markdown",
   "id": "3482b961",
   "metadata": {},
   "source": [
    "# modules"
   ]
  },
  {
   "cell_type": "code",
   "execution_count": 12,
   "id": "bace71fe",
   "metadata": {},
   "outputs": [
    {
     "name": "stdout",
     "output_type": "stream",
     "text": [
      "['__doc__', '__loader__', '__name__', '__package__', '__spec__', 'acos', 'acosh', 'asin', 'asinh', 'atan', 'atan2', 'atanh', 'ceil', 'comb', 'copysign', 'cos', 'cosh', 'degrees', 'dist', 'e', 'erf', 'erfc', 'exp', 'expm1', 'fabs', 'factorial', 'floor', 'fmod', 'frexp', 'fsum', 'gamma', 'gcd', 'hypot', 'inf', 'isclose', 'isfinite', 'isinf', 'isnan', 'isqrt', 'lcm', 'ldexp', 'lgamma', 'log', 'log10', 'log1p', 'log2', 'modf', 'nan', 'nextafter', 'perm', 'pi', 'pow', 'prod', 'radians', 'remainder', 'sin', 'sinh', 'sqrt', 'tan', 'tanh', 'tau', 'trunc', 'ulp']\n"
     ]
    }
   ],
   "source": [
    "import math\n",
    "print(dir(math))"
   ]
  },
  {
   "cell_type": "code",
   "execution_count": 13,
   "id": "eec00e05",
   "metadata": {},
   "outputs": [
    {
     "name": "stdout",
     "output_type": "stream",
     "text": [
      "13\n",
      "12\n",
      "3.5496478698597698\n"
     ]
    }
   ],
   "source": [
    "numbers = 12.6\n",
    "print(math.ceil(numbers))\n",
    "print(math.floor(numbers))\n",
    "print(math.sqrt(numbers))"
   ]
  },
  {
   "cell_type": "code",
   "execution_count": 14,
   "id": "57c6f050",
   "metadata": {},
   "outputs": [
    {
     "name": "stdout",
     "output_type": "stream",
     "text": [
      "['Counter', 'Decimal', 'Fraction', 'NormalDist', 'StatisticsError', '__all__', '__builtins__', '__cached__', '__doc__', '__file__', '__loader__', '__name__', '__package__', '__spec__', '_coerce', '_convert', '_exact_ratio', '_fail_neg', '_find_lteq', '_find_rteq', '_isfinite', '_normal_dist_inv_cdf', '_ss', '_sum', 'bisect_left', 'bisect_right', 'erf', 'exp', 'fabs', 'fmean', 'fsum', 'geometric_mean', 'groupby', 'harmonic_mean', 'hypot', 'itemgetter', 'log', 'math', 'mean', 'median', 'median_grouped', 'median_high', 'median_low', 'mode', 'multimode', 'numbers', 'pstdev', 'pvariance', 'quantiles', 'random', 'sqrt', 'stdev', 'tau', 'variance']\n"
     ]
    }
   ],
   "source": [
    "import statistics as stat\n",
    "print(dir(stat))"
   ]
  },
  {
   "cell_type": "code",
   "execution_count": 16,
   "id": "21b4b5ef",
   "metadata": {},
   "outputs": [
    {
     "name": "stdout",
     "output_type": "stream",
     "text": [
      "72\n",
      "45\n",
      "748.2222222222222\n",
      "64.99819828757082\n",
      "68.18745955062008\n"
     ]
    }
   ],
   "source": [
    "numbers = [45,60,68,42,65,72,140,80,64,84]\n",
    "print(stat.mean(numbers))\n",
    "print(stat.mode(numbers))\n",
    "print(stat.variance(numbers))\n",
    "print(stat.harmonic_mean(numbers))\n",
    "print(stat.geometric_mean(numbers))"
   ]
  },
  {
   "cell_type": "code",
   "execution_count": 17,
   "id": "7a562a28",
   "metadata": {},
   "outputs": [
    {
     "name": "stdout",
     "output_type": "stream",
     "text": [
      "['BPF', 'LOG4', 'NV_MAGICCONST', 'RECIP_BPF', 'Random', 'SG_MAGICCONST', 'SystemRandom', 'TWOPI', '_Sequence', '_Set', '__all__', '__builtins__', '__cached__', '__doc__', '__file__', '__loader__', '__name__', '__package__', '__spec__', '_accumulate', '_acos', '_bisect', '_ceil', '_cos', '_e', '_exp', '_floor', '_inst', '_log', '_os', '_pi', '_random', '_repeat', '_sha512', '_sin', '_sqrt', '_test', '_test_generator', '_urandom', '_warn', 'betavariate', 'choice', 'choices', 'expovariate', 'gammavariate', 'gauss', 'getrandbits', 'getstate', 'lognormvariate', 'normalvariate', 'paretovariate', 'randbytes', 'randint', 'random', 'randrange', 'sample', 'seed', 'setstate', 'shuffle', 'triangular', 'uniform', 'vonmisesvariate', 'weibullvariate']\n"
     ]
    }
   ],
   "source": [
    "import random as rm\n",
    "print(dir(rm))"
   ]
  },
  {
   "cell_type": "code",
   "execution_count": null,
   "id": "324efb17",
   "metadata": {},
   "outputs": [],
   "source": []
  }
 ],
 "metadata": {
  "kernelspec": {
   "display_name": "Python 3 (ipykernel)",
   "language": "python",
   "name": "python3"
  },
  "language_info": {
   "codemirror_mode": {
    "name": "ipython",
    "version": 3
   },
   "file_extension": ".py",
   "mimetype": "text/x-python",
   "name": "python",
   "nbconvert_exporter": "python",
   "pygments_lexer": "ipython3",
   "version": "3.9.12"
  }
 },
 "nbformat": 4,
 "nbformat_minor": 5
}
