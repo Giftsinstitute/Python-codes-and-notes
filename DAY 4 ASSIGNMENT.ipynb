{
 "cells": [
  {
   "cell_type": "code",
   "execution_count": 24,
   "id": "ad60b3b4",
   "metadata": {},
   "outputs": [
    {
     "name": "stdout",
     "output_type": "stream",
     "text": [
      "enter your salary120000\n",
      "enter your year of service8\n",
      "Your Net bonus is 6000.0\n"
     ]
    }
   ],
   "source": [
    "Salary = int(input(\"enter your salary\"))\n",
    "Year = int(input(\"enter your year of service\"))\n",
    "if Year>5:\n",
    "    print(\"Your Net bonus is\",0.05*Salary)\n",
    "        "
   ]
  },
  {
   "cell_type": "code",
   "execution_count": 33,
   "id": "5fc9b918",
   "metadata": {},
   "outputs": [
    {
     "name": "stdout",
     "output_type": "stream",
     "text": [
      "enter first number:10\n",
      "enter second number:1\n",
      "first number is greater than the second number\n"
     ]
    }
   ],
   "source": [
    "num1 = int(input(\"enter first number:\"))\n",
    "num2 = int(input(\"enter second number:\"))\n",
    "if num1 >= num2:\n",
    "    if num1==num2:\n",
    "        print(\"both numbers are equal\")\n",
    "    else:\n",
    "        print(\"first number is greater than the second number\")"
   ]
  },
  {
   "cell_type": "code",
   "execution_count": 36,
   "id": "d2cc7c83",
   "metadata": {},
   "outputs": [
    {
     "name": "stdout",
     "output_type": "stream",
     "text": [
      "enter the age of person1;30\n",
      "enter the age of person2;25\n",
      "enter the age of person3;20\n",
      "\n",
      "person1 is the oldest\n",
      "person3 is the youngest\n"
     ]
    }
   ],
   "source": [
    "age1 = int(input(\"enter the age of person1;\"))\n",
    "age2 = int(input(\"enter the age of person2;\"))\n",
    "age3 = int(input(\"enter the age of person3;\"))\n",
    "print()\n",
    "if (age1 > age2) & (age1 > age3):\n",
    "    print(\"person1 is the oldest\")\n",
    "    if age2 < age3:\n",
    "        print(\"person2 is the youngest\")\n",
    "    else:\n",
    "        print(\"person3 is the youngest\")\n",
    "elif (age2 > age1) & (age2 > age3):\n",
    "    print(\"person2 is the oldest\")\n",
    "    if age1 < age3:\n",
    "        print(\"person1 is the youngest\")\n",
    "    else:\n",
    "        print(\"person3 is the youngest\")\n",
    "else:\n",
    "    print(\"person3 is the oldest\")\n",
    "    if age1 < age2:\n",
    "        print(\"person1 is the youngest\")\n",
    "    else:\n",
    "        print9(\"person2 is the youngest\")"
   ]
  },
  {
   "cell_type": "code",
   "execution_count": 38,
   "id": "2918fbb0",
   "metadata": {},
   "outputs": [
    {
     "name": "stdout",
     "output_type": "stream",
     "text": [
      "number of classes held:15\n",
      "number of classes attended:8\n",
      "the student is not allowed to sit in the exam hall\n"
     ]
    }
   ],
   "source": [
    "o = int(input(\"number of classes held:\"))\n",
    "k = int(input(\"number of classes attended:\"))\n",
    "percentage = k/o * 100\n",
    "if percentage >= 70:\n",
    "    print(\"the student is allowed to sit in the exam hall\")\n",
    "else:\n",
    "    print(\"the student is not allowed to sit in the exam hall\")"
   ]
  },
  {
   "cell_type": "code",
   "execution_count": 2,
   "id": "82844ba8",
   "metadata": {},
   "outputs": [
    {
     "name": "stdout",
     "output_type": "stream",
     "text": [
      "enter your salary12\n",
      "enter your year of servie9\n",
      "your net bonus is 0.6000000000000001\n"
     ]
    }
   ],
   "source": [
    "salary = int(input(\"enter your salary\"))\n",
    "year = int(input(\"enter your year of servie\"))\n",
    "if year>5:\n",
    "    print(\"your net bonus is\",0.05*salary)"
   ]
  },
  {
   "cell_type": "code",
   "execution_count": null,
   "id": "2983d220",
   "metadata": {},
   "outputs": [],
   "source": []
  }
 ],
 "metadata": {
  "kernelspec": {
   "display_name": "Python 3 (ipykernel)",
   "language": "python",
   "name": "python3"
  },
  "language_info": {
   "codemirror_mode": {
    "name": "ipython",
    "version": 3
   },
   "file_extension": ".py",
   "mimetype": "text/x-python",
   "name": "python",
   "nbconvert_exporter": "python",
   "pygments_lexer": "ipython3",
   "version": "3.9.12"
  }
 },
 "nbformat": 4,
 "nbformat_minor": 5
}
