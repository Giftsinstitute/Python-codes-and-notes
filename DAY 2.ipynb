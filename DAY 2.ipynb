{
 "cells": [
  {
   "cell_type": "code",
   "execution_count": 1,
   "id": "be3b16df",
   "metadata": {},
   "outputs": [
    {
     "name": "stdout",
     "output_type": "stream",
     "text": [
      "PYTHON\n",
      "python\n",
      "Python Is Fun\n",
      "Python is fun\n",
      "info\n"
     ]
    }
   ],
   "source": [
    "word = 'python'\n",
    "word2 = 'PYTHON'\n",
    "word3 = 'python is fun'\n",
    "word4 = '   info'\n",
    "\n",
    "print(word.upper())\n",
    "print(word2.lower())\n",
    "print(word3.title())\n",
    "print(word3.capitalize())\n",
    "print(word4.strip())"
   ]
  },
  {
   "cell_type": "code",
   "execution_count": 2,
   "id": "257fb222",
   "metadata": {},
   "outputs": [
    {
     "name": "stdout",
     "output_type": "stream",
     "text": [
      "15\n"
     ]
    }
   ],
   "source": [
    "# int and float can be converted o string and vice versa\n",
    "#string cannot be converted to int or float except it is a number that is passed in that string\n",
    "number1 = int(15.65)\n",
    "print(number1)"
   ]
  },
  {
   "cell_type": "code",
   "execution_count": 3,
   "id": "b9307d2d",
   "metadata": {},
   "outputs": [
    {
     "name": "stdout",
     "output_type": "stream",
     "text": [
      "15.0\n"
     ]
    }
   ],
   "source": [
    "number2 = 15\n",
    "print(float(number2))"
   ]
  },
  {
   "cell_type": "code",
   "execution_count": 4,
   "id": "11bda41f",
   "metadata": {},
   "outputs": [
    {
     "name": "stdout",
     "output_type": "stream",
     "text": [
      "123.0\n"
     ]
    }
   ],
   "source": [
    "password = '123'\n",
    "print(float(password))"
   ]
  },
  {
   "cell_type": "code",
   "execution_count": 5,
   "id": "08261405",
   "metadata": {},
   "outputs": [
    {
     "name": "stdout",
     "output_type": "stream",
     "text": [
      "23\n",
      "10.0\n"
     ]
    }
   ],
   "source": [
    "number8 = int(23.65)\n",
    "print(number8)\n",
    "number15 = 10\n",
    "print(float(number15))"
   ]
  },
  {
   "cell_type": "code",
   "execution_count": 7,
   "id": "11edf227",
   "metadata": {},
   "outputs": [
    {
     "name": "stdout",
     "output_type": "stream",
     "text": [
      "please enter your namegift\n"
     ]
    }
   ],
   "source": [
    "#input function is used to prompt a user for an input value to be assigned to a variable\n",
    "name = input('please enter your name')"
   ]
  },
  {
   "cell_type": "raw",
   "id": "66b10832",
   "metadata": {},
   "source": []
  },
  {
   "cell_type": "markdown",
   "id": "cda77f41",
   "metadata": {},
   "source": []
  },
  {
   "cell_type": "markdown",
   "id": "882d9e53",
   "metadata": {},
   "source": [
    "# arithmetic operators"
   ]
  },
  {
   "cell_type": "code",
   "execution_count": 10,
   "id": "24bcb1be",
   "metadata": {},
   "outputs": [
    {
     "name": "stdout",
     "output_type": "stream",
     "text": [
      "40 + 60 = 100\n",
      "40 - 60 = -20\n",
      "40 * 60 = 2400\n",
      "40 / 60 = 0.6666666666666666\n",
      "40 % 60 = 40\n",
      "40 // 60 = 0\n",
      "40 ** 60 = 1329227995784915872903807060280344576000000000000000000000000000000000000000000000000000000000000\n"
     ]
    }
   ],
   "source": [
    "num1 = 40\n",
    "num2 = 60\n",
    "print(f'{num1} + {num2} = {num1 + num2}')\n",
    "print(f'{num1} - {num2} = {num1 - num2}')\n",
    "print(f'{num1} * {num2} = {num1 * num2}')\n",
    "print(f'{num1} / {num2} = {num1 / num2}')\n",
    "print(f'{num1} % {num2} = {num1 % num2}')\n",
    "print(f'{num1} // {num2} = {num1 // num2}')\n",
    "print(f'{num1} ** {num2} = {num1 ** num2}')"
   ]
  },
  {
   "cell_type": "markdown",
   "id": "fab0486a",
   "metadata": {},
   "source": [
    "# comparism operators"
   ]
  },
  {
   "cell_type": "code",
   "execution_count": 11,
   "id": "edf024de",
   "metadata": {},
   "outputs": [
    {
     "name": "stdout",
     "output_type": "stream",
     "text": [
      "40 > 60 = False\n",
      "40 < 60 = True\n",
      "40 >= 60 = False\n",
      "40 <= 60 = True\n",
      "40 == 60 = False\n",
      "40 != 60 = True\n"
     ]
    }
   ],
   "source": [
    "print(f'{num1} > {num2} = {num1 > num2}')\n",
    "print(f'{num1} < {num2} = {num1 < num2}')\n",
    "print(f'{num1} >= {num2} = {num1 >= num2}')\n",
    "print(f'{num1} <= {num2} = {num1 <= num2}')\n",
    "print(f'{num1} == {num2} = {num1 == num2}')\n",
    "print(f'{num1} != {num2} = {num1 != num2}')"
   ]
  },
  {
   "cell_type": "markdown",
   "id": "f6394699",
   "metadata": {},
   "source": [
    "# LOGICAL OPERATORS"
   ]
  },
  {
   "cell_type": "code",
   "execution_count": 12,
   "id": "ad83977f",
   "metadata": {},
   "outputs": [
    {
     "name": "stdout",
     "output_type": "stream",
     "text": [
      "False\n",
      "False\n",
      "False\n"
     ]
    }
   ],
   "source": [
    "print(num1 > num2 and num2 == num1)\n",
    "print(num1 > num2 or num2 == num1)\n",
    "print(not num1)"
   ]
  },
  {
   "cell_type": "code",
   "execution_count": 5,
   "id": "68ceac1b",
   "metadata": {},
   "outputs": [
    {
     "name": "stdout",
     "output_type": "stream",
     "text": [
      "5000 * 0.06 / 3 = 100.0\n"
     ]
    }
   ],
   "source": [
    "num1 = 5000\n",
    "num2 = 3\n",
    "num3 = 0.06\n",
    "print(f'{num1} * {num3} / {num2} = {num1 * num3 / num2}')"
   ]
  }
 ],
 "metadata": {
  "kernelspec": {
   "display_name": "Python 3 (ipykernel)",
   "language": "python",
   "name": "python3"
  },
  "language_info": {
   "codemirror_mode": {
    "name": "ipython",
    "version": 3
   },
   "file_extension": ".py",
   "mimetype": "text/x-python",
   "name": "python",
   "nbconvert_exporter": "python",
   "pygments_lexer": "ipython3",
   "version": "3.9.12"
  }
 },
 "nbformat": 4,
 "nbformat_minor": 5
}
