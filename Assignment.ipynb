{
 "cells": [
  {
   "cell_type": "code",
   "execution_count": 3,
   "id": "db6efeb4",
   "metadata": {},
   "outputs": [
    {
     "name": "stdout",
     "output_type": "stream",
     "text": [
      "458.0\n"
     ]
    }
   ],
   "source": [
    "number = 458\n",
    "print(float(number)) "
   ]
  },
  {
   "cell_type": "code",
   "execution_count": 6,
   "id": "b0362af6",
   "metadata": {},
   "outputs": [
    {
     "name": "stdout",
     "output_type": "stream",
     "text": [
      "please enter your name Nwafor Chiagozie Great\n"
     ]
    }
   ],
   "source": [
    "name = input('please enter your name')"
   ]
  },
  {
   "cell_type": "code",
   "execution_count": 8,
   "id": "28e4ff45",
   "metadata": {},
   "outputs": [
    {
     "name": "stdout",
     "output_type": "stream",
     "text": [
      "5000 * 0.06 / 3 = 100.0\n"
     ]
    }
   ],
   "source": [
    "num1 = 5000\n",
    "num2 = 3\n",
    "num3 = 0.06\n",
    "print(f'{num1} * {num3} / {num2} = {num1 * num3 / num2}')"
   ]
  },
  {
   "cell_type": "markdown",
   "id": "d0ec8fa0",
   "metadata": {},
   "source": [
    "# Finding the compound interest\n",
    " Formula = P+(1+r)/n\n",
    " 1+r = 1+5% = 1+0.05 = 1.05"
   ]
  },
  {
   "cell_type": "code",
   "execution_count": 19,
   "id": "b15d3cfe",
   "metadata": {},
   "outputs": [
    {
     "name": "stdout",
     "output_type": "stream",
     "text": [
      "1.05 / 3 = 0.35000000000000003\n",
      "0.35000000000000003 * 550000 = 192500.00000000003\n"
     ]
    }
   ],
   "source": [
    "num1 = 550000\n",
    "num2 = 1.05\n",
    "num4 = 3\n",
    "print(f'{num2} / {num4} = {num2 / num4}')\n",
    "num3 = 0.35000000000000003\n",
    "print(f'{num3} * {num1} = {num3 * num1}')"
   ]
  },
  {
   "cell_type": "code",
   "execution_count": null,
   "id": "20c75273",
   "metadata": {},
   "outputs": [],
   "source": []
  }
 ],
 "metadata": {
  "kernelspec": {
   "display_name": "Python 3 (ipykernel)",
   "language": "python",
   "name": "python3"
  },
  "language_info": {
   "codemirror_mode": {
    "name": "ipython",
    "version": 3
   },
   "file_extension": ".py",
   "mimetype": "text/x-python",
   "name": "python",
   "nbconvert_exporter": "python",
   "pygments_lexer": "ipython3",
   "version": "3.9.12"
  }
 },
 "nbformat": 4,
 "nbformat_minor": 5
}
